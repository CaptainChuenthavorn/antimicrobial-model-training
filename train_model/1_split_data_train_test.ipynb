{
 "cells": [
  {
   "cell_type": "code",
   "execution_count": 1,
   "metadata": {},
   "outputs": [],
   "source": [
    "from function.validation import *\n",
    "\n",
    "import numpy as np\n",
    "\n",
    "import pandas as pd\n",
    "from sklearn.model_selection import train_test_split"
   ]
  },
  {
   "cell_type": "markdown",
   "metadata": {},
   "source": [
    "#### Define Answer column name"
   ]
  },
  {
   "cell_type": "code",
   "execution_count": 2,
   "metadata": {},
   "outputs": [],
   "source": [
    "# GN\n",
    "ans_gn_name = ['amikacin',\n",
    "'amoxicillin/clavulanic acid',\n",
    "'cefalexin',\n",
    "'cefovecin',\n",
    "'doxycycline',\n",
    "'enrofloxacin',\n",
    "'gentamicin',\n",
    "'imipenem',\n",
    "'marbofloxacin',\n",
    "'nitrofurantoin',\n",
    "'trimethoprim/sulfamethoxazole']\n",
    "gn_ans_col_name = [\"ans_\" + e for e in ans_gn_name]\n",
    "\n",
    "# GP\n",
    "ans_gp_name = ['amikacin',\n",
    " 'amoxicillin/clavulanic acid',\n",
    " 'cefalexin',\n",
    " 'cefovecin',\n",
    " 'clindamycin',\n",
    " 'doxycycline',\n",
    " 'enrofloxacin',\n",
    " 'marbofloxacin',\n",
    " 'nitrofurantoin',\n",
    " 'trimethoprim/sulfamethoxazole',\n",
    " 'vancomycin']\n",
    "gp_ans_col_name = [\"ans_\" + e for e in ans_gp_name]"
   ]
  },
  {
   "cell_type": "markdown",
   "metadata": {},
   "source": [
    "#### Read Excel"
   ]
  },
  {
   "cell_type": "code",
   "execution_count": 3,
   "metadata": {},
   "outputs": [],
   "source": [
    "df_gn = pd.read_excel(\"./Dataset/Origin/trained_GN_Dataset_CS.xlsx\")\n",
    "df_gp = pd.read_excel(\"./Dataset/Origin/trained_GP_Dataset_CS.xlsx\")"
   ]
  },
  {
   "cell_type": "code",
   "execution_count": 4,
   "metadata": {},
   "outputs": [],
   "source": [
    "# รวมกลุ่ม submitted_sample_category ที่น้อยกว่า 10 เป็นกลุ่มใหม่ที่ชื่อว่า \"xxrare\"\n",
    "df_gn = binning_less_than(df_gn, \"submitted_sample_category\", 10, \"xxrare\")\n",
    "df_gp = binning_less_than(df_gp, \"submitted_sample_category\", 10, \"xxrare\")"
   ]
  },
  {
   "cell_type": "code",
   "execution_count": 5,
   "metadata": {},
   "outputs": [],
   "source": [
    "df_gn_testbycase = df_gn[df_gn[\"type\"] == \"test\"]\n",
    "df_gp_testbycase = df_gp[df_gp[\"type\"] == \"test\"]"
   ]
  },
  {
   "cell_type": "code",
   "execution_count": 6,
   "metadata": {},
   "outputs": [],
   "source": [
    "df_gn_train = df_gn[df_gn[\"type\"] == \"train\"]\n",
    "df_gp_train = df_gp[df_gp[\"type\"] == \"train\"]"
   ]
  },
  {
   "cell_type": "markdown",
   "metadata": {},
   "source": [
    "#### Export Test by case"
   ]
  },
  {
   "cell_type": "code",
   "execution_count": 7,
   "metadata": {},
   "outputs": [],
   "source": [
    "df_gn_testbycase.to_csv(f\"./Dataset/GN/TestByCase_GN.csv\", index=False)\n",
    "df_gp_testbycase.to_csv(f\"./Dataset/GP/TestByCase_GP.csv\", index=False)"
   ]
  },
  {
   "cell_type": "markdown",
   "metadata": {},
   "source": [
    "#### Split Data (Train : 80 / Test : 20) & Export to CSV"
   ]
  },
  {
   "cell_type": "markdown",
   "metadata": {},
   "source": [
    "###### GN DATASET"
   ]
  },
  {
   "cell_type": "code",
   "execution_count": 8,
   "metadata": {},
   "outputs": [],
   "source": [
    "vitek_id = \"GN\"             # \"GP\" | \"GN\"\n",
    "df_report = df_gn_train     # df_gp_train | df_gn_train \n",
    "\n",
    "ans_col_name = gn_ans_col_name if vitek_id == \"GN\" else gp_ans_col_name\n",
    "for i in range(11):\n",
    "    df_train , df_test = train_test_split(df_report, random_state=0, stratify=df_report[ans_col_name[i]], test_size=.2)\n",
    "    ans_name = ans_col_name[i].replace(\"ans_\", \"\").replace(\"/\", \"_\")\n",
    "    df_train.to_csv(f\"./Dataset/{vitek_id}/Train/Train_{vitek_id}_{ans_name}.csv\", index=False)\n",
    "    df_test.to_csv(f\"./Dataset/{vitek_id}/Test/Test_{vitek_id}_{ans_name}.csv\", index=False)"
   ]
  },
  {
   "cell_type": "markdown",
   "metadata": {},
   "source": [
    "###### GP DATASET"
   ]
  },
  {
   "cell_type": "code",
   "execution_count": 9,
   "metadata": {},
   "outputs": [],
   "source": [
    "vitek_id = \"GP\"             \n",
    "df_report = df_gp_train\n",
    "\n",
    "ans_col_name = gn_ans_col_name if vitek_id == \"GN\" else gp_ans_col_name\n",
    "for i in range(11):\n",
    "    df_train , df_test = train_test_split(df_report, random_state=0, stratify=df_report[ans_col_name[i]], test_size=.2)\n",
    "    ans_name = ans_col_name[i].replace(\"ans_\", \"\").replace(\"/\", \"_\")\n",
    "    df_train.to_csv(f\"./Dataset/{vitek_id}/Train/Train_{vitek_id}_{ans_name}.csv\", index=False)\n",
    "    df_test.to_csv(f\"./Dataset/{vitek_id}/Test/Test_{vitek_id}_{ans_name}.csv\", index=False)"
   ]
  },
  {
   "cell_type": "code",
   "execution_count": null,
   "metadata": {},
   "outputs": [],
   "source": []
  }
 ],
 "metadata": {
  "kernelspec": {
   "display_name": "Python 3 (ipykernel)",
   "language": "python",
   "name": "python3"
  },
  "language_info": {
   "codemirror_mode": {
    "name": "ipython",
    "version": 3
   },
   "file_extension": ".py",
   "mimetype": "text/x-python",
   "name": "python",
   "nbconvert_exporter": "python",
   "pygments_lexer": "ipython3",
   "version": "3.10.10"
  },
  "vscode": {
   "interpreter": {
    "hash": "b607f27b5c425f1dfa2b3cb827e4360136c5338da351f9c2081803bab96a159a"
   }
  }
 },
 "nbformat": 4,
 "nbformat_minor": 2
}
