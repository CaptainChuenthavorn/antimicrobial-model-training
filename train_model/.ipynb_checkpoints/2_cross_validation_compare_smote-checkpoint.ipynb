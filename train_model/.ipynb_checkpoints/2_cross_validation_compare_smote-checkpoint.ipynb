{
 "cells": [
  {
   "cell_type": "code",
   "execution_count": 1,
   "metadata": {},
   "outputs": [],
   "source": [
    "from function.validation import *\n",
    "from function.rsmote import *\n",
    "from function.SMOTERounding import *"
   ]
  },
  {
   "cell_type": "code",
   "execution_count": 2,
   "metadata": {},
   "outputs": [],
   "source": [
    "import numpy as np\n",
    "import pandas as pd\n",
    "import joblib\n",
    "import matplotlib.pyplot as plt\n",
    "from sklearn.model_selection import KFold, StratifiedKFold, train_test_split, GridSearchCV, RepeatedStratifiedKFold\n",
    "from sklearn.tree import DecisionTreeClassifier\n",
    "from sklearn.svm import SVC\n",
    "from sklearn.ensemble import RandomForestClassifier, GradientBoostingClassifier\n",
    "from sklearn.neural_network import MLPClassifier\n",
    "from sklearn.metrics import precision_score, recall_score, f1_score, accuracy_score, roc_auc_score, confusion_matrix\n",
    "from sklearn.preprocessing import LabelEncoder, OneHotEncoder\n",
    "from sklearn.decomposition import PCA\n",
    "from xgboost import XGBClassifier\n",
    "from imblearn.pipeline import make_pipeline\n",
    "\n",
    "from imblearn.over_sampling import SMOTE, SMOTEN, SMOTENC, SVMSMOTE, KMeansSMOTE, RandomOverSampler,BorderlineSMOTE, ADASYN\n",
    "from imblearn.under_sampling import TomekLinks, EditedNearestNeighbours, NearMiss, RepeatedEditedNearestNeighbours\n",
    "from imblearn.combine import SMOTEENN, SMOTETomek \n",
    "from imblearn.metrics import geometric_mean_score\n",
    "\n",
    "import warnings\n",
    "warnings.filterwarnings('ignore')"
   ]
  },
  {
   "cell_type": "code",
   "execution_count": 2,
   "metadata": {},
   "outputs": [],
   "source": [
    "# GN\n",
    "ans_gn_name = ['amikacin',\n",
    "'amoxicillin/clavulanic acid',\n",
    "'cefalexin',\n",
    "'cefovecin',\n",
    "'doxycycline',\n",
    "'enrofloxacin',\n",
    "'gentamicin',\n",
    "'imipenem',\n",
    "'marbofloxacin',\n",
    "'nitrofurantoin',\n",
    "'trimethoprim/sulfamethoxazole']\n",
    "gn_ans_col_name = [\"ans_\" + e for e in ans_gn_name]\n",
    "\n",
    "# GP\n",
    "ans_gp_name = ['amikacin',\n",
    " 'amoxicillin/clavulanic acid',\n",
    " 'cefalexin',\n",
    " 'cefovecin',\n",
    " 'clindamycin',\n",
    " 'doxycycline',\n",
    " 'enrofloxacin',\n",
    " 'marbofloxacin',\n",
    " 'nitrofurantoin',\n",
    " 'trimethoprim/sulfamethoxazole',\n",
    " 'vancomycin']\n",
    "gp_ans_col_name = [\"ans_\" + e for e in ans_gp_name]"
   ]
  },
  {
   "cell_type": "markdown",
   "metadata": {},
   "source": [
    "Count : Majority / Minority"
   ]
  },
  {
   "cell_type": "code",
   "execution_count": 3,
   "metadata": {},
   "outputs": [],
   "source": [
    "vitek_id = \"GP\"\n",
    "ans_col_name = gn_ans_col_name if vitek_id == \"GN\" else gp_ans_col_name\n",
    "df_count = pd.DataFrame()\n",
    "for i in range(11):\n",
    "    anti_name = ans_col_name[i].replace(\"ans_\", \"\").replace(\"/\", \"_\")\n",
    "    df_train = pd.read_csv(f\"./Dataset/{vitek_id}/Train/Train_{vitek_id}_{anti_name}.csv\")\n",
    "    df_test = pd.read_csv(f\"./Dataset/{vitek_id}/Test/Test_{vitek_id}_{anti_name}.csv\")\n",
    "    df_train = df_train.append(df_test)\n",
    "    value_count = df_train[ans_col_name[i]].value_counts()\n",
    "    ratio = np.round(value_count[0]/value_count[1], 2)\n",
    "    df_count = df_count.append({\"antimicrobial\": anti_name.replace(\"_\", \"/\"),\"majority\": int(value_count[0]), \"minority\": int(value_count[1]), \"ratio\": ratio}, ignore_index=True)\n",
    "df_count[\"majority\"] = df_count[\"majority\"].astype(int)\n",
    "df_count[\"minority\"] = df_count[\"minority\"].astype(int)"
   ]
  },
  {
   "cell_type": "code",
   "execution_count": 4,
   "metadata": {},
   "outputs": [
    {
     "data": {
      "text/html": [
       "<div>\n",
       "<style scoped>\n",
       "    .dataframe tbody tr th:only-of-type {\n",
       "        vertical-align: middle;\n",
       "    }\n",
       "\n",
       "    .dataframe tbody tr th {\n",
       "        vertical-align: top;\n",
       "    }\n",
       "\n",
       "    .dataframe thead th {\n",
       "        text-align: right;\n",
       "    }\n",
       "</style>\n",
       "<table border=\"1\" class=\"dataframe\">\n",
       "  <thead>\n",
       "    <tr style=\"text-align: right;\">\n",
       "      <th></th>\n",
       "      <th>antimicrobial</th>\n",
       "      <th>majority</th>\n",
       "      <th>minority</th>\n",
       "      <th>ratio</th>\n",
       "    </tr>\n",
       "  </thead>\n",
       "  <tbody>\n",
       "    <tr>\n",
       "      <th>0</th>\n",
       "      <td>amikacin</td>\n",
       "      <td>2932</td>\n",
       "      <td>190</td>\n",
       "      <td>15.43</td>\n",
       "    </tr>\n",
       "    <tr>\n",
       "      <th>1</th>\n",
       "      <td>amoxicillin/clavulanic acid</td>\n",
       "      <td>1711</td>\n",
       "      <td>1411</td>\n",
       "      <td>1.21</td>\n",
       "    </tr>\n",
       "    <tr>\n",
       "      <th>2</th>\n",
       "      <td>cefalexin</td>\n",
       "      <td>2218</td>\n",
       "      <td>904</td>\n",
       "      <td>2.45</td>\n",
       "    </tr>\n",
       "    <tr>\n",
       "      <th>3</th>\n",
       "      <td>cefovecin</td>\n",
       "      <td>2159</td>\n",
       "      <td>963</td>\n",
       "      <td>2.24</td>\n",
       "    </tr>\n",
       "    <tr>\n",
       "      <th>4</th>\n",
       "      <td>clindamycin</td>\n",
       "      <td>2296</td>\n",
       "      <td>826</td>\n",
       "      <td>2.78</td>\n",
       "    </tr>\n",
       "    <tr>\n",
       "      <th>5</th>\n",
       "      <td>doxycycline</td>\n",
       "      <td>2946</td>\n",
       "      <td>176</td>\n",
       "      <td>16.74</td>\n",
       "    </tr>\n",
       "    <tr>\n",
       "      <th>6</th>\n",
       "      <td>enrofloxacin</td>\n",
       "      <td>3007</td>\n",
       "      <td>115</td>\n",
       "      <td>26.15</td>\n",
       "    </tr>\n",
       "    <tr>\n",
       "      <th>7</th>\n",
       "      <td>marbofloxacin</td>\n",
       "      <td>2960</td>\n",
       "      <td>162</td>\n",
       "      <td>18.27</td>\n",
       "    </tr>\n",
       "    <tr>\n",
       "      <th>8</th>\n",
       "      <td>nitrofurantoin</td>\n",
       "      <td>2921</td>\n",
       "      <td>201</td>\n",
       "      <td>14.53</td>\n",
       "    </tr>\n",
       "    <tr>\n",
       "      <th>9</th>\n",
       "      <td>trimethoprim/sulfamethoxazole</td>\n",
       "      <td>2094</td>\n",
       "      <td>1028</td>\n",
       "      <td>2.04</td>\n",
       "    </tr>\n",
       "    <tr>\n",
       "      <th>10</th>\n",
       "      <td>vancomycin</td>\n",
       "      <td>2960</td>\n",
       "      <td>162</td>\n",
       "      <td>18.27</td>\n",
       "    </tr>\n",
       "  </tbody>\n",
       "</table>\n",
       "</div>"
      ],
      "text/plain": [
       "                    antimicrobial  majority  minority  ratio\n",
       "0                        amikacin      2932       190  15.43\n",
       "1     amoxicillin/clavulanic acid      1711      1411   1.21\n",
       "2                       cefalexin      2218       904   2.45\n",
       "3                       cefovecin      2159       963   2.24\n",
       "4                     clindamycin      2296       826   2.78\n",
       "5                     doxycycline      2946       176  16.74\n",
       "6                    enrofloxacin      3007       115  26.15\n",
       "7                   marbofloxacin      2960       162  18.27\n",
       "8                  nitrofurantoin      2921       201  14.53\n",
       "9   trimethoprim/sulfamethoxazole      2094      1028   2.04\n",
       "10                     vancomycin      2960       162  18.27"
      ]
     },
     "execution_count": 4,
     "metadata": {},
     "output_type": "execute_result"
    }
   ],
   "source": [
    "df_count"
   ]
  },
  {
   "cell_type": "markdown",
   "metadata": {},
   "source": [
    "Read CSV"
   ]
  },
  {
   "cell_type": "code",
   "execution_count": 6,
   "metadata": {},
   "outputs": [],
   "source": [
    "df_gn = pd.read_excel(\"./Dataset/Origin/trained_GN_Dataset_CS.xlsx\")\n",
    "df_gp = pd.read_excel(\"./Dataset/Origin/trained_GP_Dataset_CS.xlsx\")"
   ]
  },
  {
   "cell_type": "markdown",
   "metadata": {},
   "source": [
    "Cross Validation"
   ]
  },
  {
   "cell_type": "code",
   "execution_count": 7,
   "metadata": {},
   "outputs": [],
   "source": [
    "def training(X_train, y_train):\n",
    "    skf = StratifiedKFold(n_splits=10, shuffle=True, random_state=0)\n",
    "    # dt = DecisionTreeClassifier(random_state=0)\n",
    "    # rf = RandomForestClassifier(random_state=0)\n",
    "    # svm = SVC(probability=True, random_state=0)\n",
    "    xgb = XGBClassifier(eval_metric=f1_score, verbosity=0, random_state=0, tree_method='gpu_hist', gpu_id=1,)\n",
    "    smotes = {\n",
    "        \"None\": None,\n",
    "        \"SMOTE\": SMOTE(random_state=0, n_jobs=-1),\n",
    "        \"ADASYN\": ADASYN(random_state=0, n_jobs=-1),\n",
    "        \"BorderlineSMOTE\": BorderlineSMOTE(random_state=0, n_jobs=-1),\n",
    "        \"SVMSMOTE\": SVMSMOTE(random_state=0, n_jobs=-1),\n",
    "        \"RSMOTE\": RSmoteKClasses(random_state=0),\n",
    "    }\n",
    "    df_cross = pd.DataFrame()\n",
    "    for smote in smotes.items():\n",
    "        a = cross_validation(X_train, y_train.astype(bool), skf, {\"XGB\": xgb},\n",
    "                             [lambda _X_train, _X_test, _y_train, _y_test: (pd.get_dummies(\n",
    "                                 _X_train), get_dummies_dataframe_columns(pd.get_dummies(_X_train), _X_test), _y_train, _y_test)],\n",
    "                             [] if smote[1] is None else [lambda _X, _y: SMOTERounding(smote[1]).fit_resample(_X, _y)]\n",
    "                             )\n",
    "        \n",
    "        a.index.name = \"Algorithm\"\n",
    "        a[\"Imblanace Handlering\"] = smote[0]\n",
    "        df_cross = df_cross.append(a)\n",
    "    df_cross[\"Antimicrobial\"] = y_train.name.replace(\"ans_\", \"\")\n",
    "    df_cross = df_cross.reset_index().set_index([\"Antimicrobial\", \"Algorithm\", \"Imblanace Handlering\"])\n",
    "    return df_cross"
   ]
  },
  {
   "cell_type": "code",
   "execution_count": 9,
   "metadata": {},
   "outputs": [],
   "source": [
    "def crossSMOTE(vitek_id, df_report):\n",
    "    sir_col_name = df_report.columns[df_report.columns.str.startswith(\"S/I/R_\")]\n",
    "    ans_col_name = gn_ans_col_name if vitek_id == \"GN\" else gp_ans_col_name\n",
    "    df_cross_eval = pd.DataFrame()\n",
    "    for i in range(11):\n",
    "        anti_name = ans_col_name[i].replace(\"ans_\", \"\").replace(\"/\", \"_\")\n",
    "        anti_train = pd.read_csv(f\"./Dataset/{vitek_id}/Train/Train_{vitek_id}_{anti_name}.csv\")\n",
    "        X_train = anti_train[[\"species\",\"bacteria_genus\", \"submitted_sample_category\"]+ list(sir_col_name)]\n",
    "        y_train = anti_train[ans_col_name[i]]\n",
    "        cross_eval = training(X_train, y_train)\n",
    "        df_cross_eval = df_cross_eval.append(cross_eval)\n",
    "    return df_cross_eval"
   ]
  },
  {
   "cell_type": "code",
   "execution_count": 10,
   "metadata": {},
   "outputs": [],
   "source": [
    "CrossGN = crossSMOTE(\"GN\", df_gn)"
   ]
  },
  {
   "cell_type": "code",
   "execution_count": null,
   "metadata": {},
   "outputs": [],
   "source": [
    "CrossGP = crossSMOTE(\"GN\", df_gp)"
   ]
  },
  {
   "cell_type": "code",
   "execution_count": 12,
   "metadata": {},
   "outputs": [],
   "source": [
    "CrossGN.to_csv(\"./Evaluation Result/GN_10_Fold_Cross_Validation_Compare_SMOTE.csv\")"
   ]
  },
  {
   "cell_type": "code",
   "execution_count": null,
   "metadata": {},
   "outputs": [],
   "source": [
    "CrossGP.to_csv(\"./Evaluation Result/GP_10_Fold_Cross_Validation_Compare_SMOTE.csv\")"
   ]
  }
 ],
 "metadata": {
  "kernelspec": {
   "display_name": "Python 3",
   "language": "python",
   "name": "python3"
  },
  "language_info": {
   "codemirror_mode": {
    "name": "ipython",
    "version": 3
   },
   "file_extension": ".py",
   "mimetype": "text/x-python",
   "name": "python",
   "nbconvert_exporter": "python",
   "pygments_lexer": "ipython3",
   "version": "3.8.8"
  },
  "vscode": {
   "interpreter": {
    "hash": "b607f27b5c425f1dfa2b3cb827e4360136c5338da351f9c2081803bab96a159a"
   }
  }
 },
 "nbformat": 4,
 "nbformat_minor": 2
}
