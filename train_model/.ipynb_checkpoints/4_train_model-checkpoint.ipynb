{
 "cells": [
  {
   "cell_type": "code",
   "execution_count": 1,
   "metadata": {},
   "outputs": [],
   "source": [
    "from function.validation import *\n",
    "from function.rsmote import *\n",
    "from function.SMOTERounding import *\n",
    "\n",
    "import numpy as np\n",
    "import pandas as pd\n",
    "import joblib\n",
    "import matplotlib.pyplot as plt\n",
    "from sklearn.model_selection import KFold, StratifiedKFold, train_test_split, GridSearchCV, RepeatedStratifiedKFold\n",
    "from sklearn.tree import DecisionTreeClassifier\n",
    "from sklearn.svm import SVC\n",
    "from sklearn.ensemble import RandomForestClassifier, GradientBoostingClassifier\n",
    "from sklearn.neural_network import MLPClassifier\n",
    "from sklearn.metrics import precision_score, recall_score, f1_score, accuracy_score, roc_auc_score, confusion_matrix\n",
    "from sklearn.preprocessing import LabelEncoder, OneHotEncoder\n",
    "from sklearn.decomposition import PCA\n",
    "from xgboost import XGBClassifier\n",
    "from imblearn.pipeline import make_pipeline\n",
    "\n",
    "from imblearn.over_sampling import SMOTE, SMOTEN, SMOTENC, SVMSMOTE, KMeansSMOTE, RandomOverSampler,BorderlineSMOTE, ADASYN\n",
    "from imblearn.under_sampling import TomekLinks, EditedNearestNeighbours, NearMiss, RepeatedEditedNearestNeighbours\n",
    "from imblearn.combine import SMOTEENN, SMOTETomek \n",
    "from imblearn.metrics import geometric_mean_score\n",
    "\n",
    "from IPython.display import Markdown, display\n",
    "import os\n",
    "\n",
    "import warnings\n",
    "warnings.filterwarnings('ignore')"
   ]
  },
  {
   "cell_type": "code",
   "execution_count": null,
   "metadata": {},
   "outputs": [],
   "source": [
    "pip list"
   ]
  },
  {
   "cell_type": "code",
   "execution_count": 2,
   "metadata": {},
   "outputs": [],
   "source": [
    "# GN\n",
    "ans_gn_name = ['amikacin',\n",
    "'amoxicillin/clavulanic acid',\n",
    "'cefalexin',\n",
    "'cefovecin',\n",
    "'doxycycline',\n",
    "'enrofloxacin',\n",
    "'gentamicin',\n",
    "'imipenem',\n",
    "'marbofloxacin',\n",
    "'nitrofurantoin',\n",
    "'trimethoprim/sulfamethoxazole']\n",
    "gn_ans_col_name = [\"ans_\" + e for e in ans_gn_name]\n",
    "\n",
    "# GP\n",
    "ans_gp_name = ['amikacin',\n",
    " 'amoxicillin/clavulanic acid',\n",
    " 'cefalexin',\n",
    " 'cefovecin',\n",
    " 'clindamycin',\n",
    " 'doxycycline',\n",
    " 'enrofloxacin',\n",
    " 'marbofloxacin',\n",
    " 'nitrofurantoin',\n",
    " 'trimethoprim/sulfamethoxazole',\n",
    " 'vancomycin']\n",
    "gp_ans_col_name = [\"ans_\" + e for e in ans_gp_name]"
   ]
  },
  {
   "cell_type": "markdown",
   "metadata": {},
   "source": [
    "กำหนด SMOTE Alogorithm ตามที่เลือกไว้จากการเปรียบเทียบในไฟล์ 2_cross_validation_compare_smote.ipynb"
   ]
  },
  {
   "cell_type": "code",
   "execution_count": 3,
   "metadata": {},
   "outputs": [],
   "source": [
    "GN_SMOTE = [\n",
    "    RSmoteKClasses(random_state=0), #amikancin \n",
    "    SVMSMOTE(random_state=0, n_jobs=-1), #amoxicillin/clavulanic acid\n",
    "    RSmoteKClasses(random_state=0), #cefalexin\n",
    "    ADASYN(random_state=0, n_jobs=-1), #cefovecin\n",
    "    BorderlineSMOTE(random_state=0, n_jobs=-1), #doxycycline\n",
    "    RSmoteKClasses(random_state=0), #enrofloxacin\n",
    "    RSmoteKClasses(random_state=0), #gentamicin\n",
    "    SVMSMOTE(random_state=0 ,n_jobs=-1), #imipenem\n",
    "    RSmoteKClasses(random_state=0), #marbofloxacin\n",
    "    SVMSMOTE(random_state=0, n_jobs=-1), #nitrofurantoin\n",
    "    SVMSMOTE(random_state=0, n_jobs=-1), #trimethoprim/sulfamethoxazole\n",
    "]\n",
    "\n",
    "GP_SMOTE = [\n",
    "    BorderlineSMOTE(random_state=0, n_jobs=-1), #amikancin \n",
    "    BorderlineSMOTE(random_state=0, n_jobs=-1), #amoxicillin/clavulanic acid\n",
    "    SMOTE(random_state=0, n_jobs=-1), #cefalexin\n",
    "    SVMSMOTE(random_state=0, n_jobs=-1), #cefovecin\n",
    "    SVMSMOTE(random_state=0, n_jobs=-1), #clindamycin\n",
    "    RSmoteKClasses(random_state=0), #doxycycline\n",
    "    RSmoteKClasses(random_state=0), #enrofloxacin\n",
    "    BorderlineSMOTE(random_state=0, n_jobs=-1), #marbofloxacin\n",
    "    RSmoteKClasses(random_state=0), #nitrofurantoin\n",
    "    SVMSMOTE(random_state=0, n_jobs=-1), #trimethoprim/sulfamethoxazole\n",
    "    SMOTE(random_state=0, n_jobs=-1) #vancomycin\n",
    "]"
   ]
  },
  {
   "cell_type": "code",
   "execution_count": 4,
   "metadata": {},
   "outputs": [],
   "source": [
    "gn_smote_name = [\n",
    "    \"R-SMOTE\", #amikancin \n",
    "    \"SVM-SMOTE\", #amoxicillin/clavulanic acid\n",
    "    \"R-SMOTE\", #cefalexin\n",
    "    \"ADASYN\", #cefovecin\n",
    "    \"Borderline-SMOTE\", #doxycycline\n",
    "    \"R-SMOTE\", #enrofloxacin\n",
    "    \"R-SMOTE\", #gentamicin\n",
    "    \"SVM-SMOTE\", #imipenem\n",
    "    \"R-SMOTE\", #marbofloxacin\n",
    "    \"SVM-SMOTE\", #nitrofurantoin\n",
    "    \"SVM-SMOTE\", #trimethoprim/sulfamethoxazole\n",
    "]\n",
    "\n",
    "gp_smote_name = [\n",
    "    \"Borderline-SMOTE\", #amikancin \n",
    "    \"Borderline-SMOTE\", #amoxicillin/clavulanic acid\n",
    "    \"SMOTE\", #cefalexin\n",
    "    \"SVM-SMOTE\", #cefovecin\n",
    "    \"SVM-SMOTE\", #clindamycin\n",
    "    \"R-SMOTE\", #doxycycline\n",
    "    \"R-SMOTE\", #enrofloxacin\n",
    "    \"Borderline-SMOTE\", #marbofloxacin\n",
    "    \"R-SMOTE\", #nitrofurantoin\n",
    "    \"SVM-SMOTE\", #trimethoprim/sulfamethoxazole\n",
    "    \"SMOTE\" #vancomycin\n",
    "]"
   ]
  },
  {
   "cell_type": "code",
   "execution_count": 5,
   "metadata": {},
   "outputs": [],
   "source": [
    "def getData(vitek_id: str, i : int):\n",
    "    ans_col_name = gn_ans_col_name if vitek_id == \"GN\" else gp_ans_col_name\n",
    "    ans_name = ans_col_name[i].replace(\"ans_\", \"\").replace(\"/\", \"_\")\n",
    "    df_train = pd.read_csv(f\"./Dataset/{vitek_id}/Train/Train_{vitek_id}_{ans_name}.csv\")\n",
    "\n",
    "    X_train = df_train[[\"species\",\"submitted_sample_category\",\"bacteria_genus\"] + list(df_train.columns[df_train.columns.str.startswith(\"S/I/R\")])]\n",
    "    y_train = df_train[ans_col_name[i]]\n",
    "    return X_train , y_train "
   ]
  },
  {
   "cell_type": "code",
   "execution_count": 29,
   "metadata": {},
   "outputs": [],
   "source": [
    "def getModel(vitek_id: str, anti_name: str): \n",
    "    #anti_name = anti_name.replace(\"/\", \"_\") \n",
    "    gs = joblib.load(f\"Grid_Search_CV/{vitek_id}/{anti_name}.joblib\")\n",
    "    print(\"/***********************\")\n",
    "    print(vitek_id,anti_name)\n",
    "    params = gs.get_params()\n",
    "    print(params)\n",
    "    xgb = XGBClassifier(eval_metric=f1_score, verbosity=0, use_label_encoder=False,\n",
    "                        random_state=0, tree_method='gpu_hist', gpu_id=1,\n",
    "                        colsample_bytree=params[\"colsample_bytree\"],\n",
    "                        gamma=params[\"gamma\"],\n",
    "                        learning_rate=params[\"learning_rate\"],\n",
    "                        max_depth=params[\"max_depth\"],\n",
    "                        n_estimators=params[\"n_estimators\"],\n",
    "                        subsample=params[\"subsample\"])\n",
    "    return xgb"
   ]
  },
  {
   "cell_type": "code",
   "execution_count": null,
   "metadata": {},
   "outputs": [],
   "source": [
    "getModel"
   ]
  },
  {
   "cell_type": "code",
   "execution_count": 7,
   "metadata": {},
   "outputs": [],
   "source": [
    "def crossValidation(vitek_id: str):\n",
    "    skf = StratifiedKFold(n_splits=10, shuffle=True, random_state=0)\n",
    "    ans_col_name = gn_ans_col_name if vitek_id == \"GN\" else gp_ans_col_name\n",
    "    smote = GN_SMOTE if vitek_id == \"GN\" else GP_SMOTE\n",
    "    \n",
    "    eval_df = pd.DataFrame()\n",
    "    for i in range(11): \n",
    "        anti_name = ans_col_name[i].replace(\"ans_\", \"\").replace(\"/\", \"_\")\n",
    "        df_train = pd.read_csv(f\"./Dataset/{vitek_id}/Train/Train_{vitek_id}_{anti_name}.csv\")\n",
    "        sir_col_name = df_train.columns[df_train.columns.str.startswith(\"S/I/R_\")]\n",
    "        X_train = df_train[[\"species\", \"bacteria_genus\", \"submitted_sample_category\"]+ list(sir_col_name)]\n",
    "        y_train = df_train[ans_col_name[i]]\n",
    "        \n",
    "        # xgb_model = getModel(vitek_id, anti_name)\n",
    "        xgb_model = XGBClassifier(eval_metric=f1_score, verbosity=0, use_label_encoder=False,\n",
    "                        random_state=0, tree_method='gpu_hist', gpu_id=1)\n",
    "        # print(anti_name)\n",
    "        cross_df =  cross_validation(X_train, y_train, skf,\n",
    "                    {anti_name.replace(\"_\", \"/\"): xgb_model},\n",
    "                    [lambda _X_train, _X_test, _y_train, _y_test: (pd.get_dummies(_X_train),\n",
    "                    get_dummies_dataframe_columns(pd.get_dummies(_X_train), _X_test), _y_train, _y_test)],\n",
    "                    [lambda _X, _y: SMOTERounding(smote[i]).fit_resample(_X, _y)]\n",
    "                    )\n",
    "        eval_df = eval_df.append(cross_df)\n",
    "    return eval_df"
   ]
  },
  {
   "cell_type": "code",
   "execution_count": 8,
   "metadata": {},
   "outputs": [],
   "source": [
    "# ใช้พารามิเตอร์ที่จูนด้วย grid_search (ใช้ Test set วัดประสิทธิภาพ)\n",
    "from tqdm import tnrange\n",
    "def eval_test_paramerter_tuning(vitek_id: str):\n",
    "    ans_col_name = gn_ans_col_name if vitek_id == \"GN\" else gp_ans_col_name\n",
    "    smote = GN_SMOTE if vitek_id == \"GN\" else GP_SMOTE\n",
    "    eval_df = pd.DataFrame()\n",
    "    schema = {}\n",
    "    smote_name = gn_smote_name if vitek_id == \"GN\" else gp_smote_name\n",
    "    for i in tnrange(11, desc='tnrange'): \n",
    "        anti_name = ans_col_name[i].replace(\"ans_\", \"\").replace(\"/\", \"_\")\n",
    "        df_train = pd.read_csv(f\"./Dataset/{vitek_id}/Train/Train_{vitek_id}_{anti_name}.csv\")\n",
    "        df_test = pd.read_csv(f\"./Dataset/{vitek_id}/Test/Test_{vitek_id}_{anti_name}.csv\")\n",
    "        sir_col_name = df_train.columns[df_train.columns.str.startswith(\"S/I/R_\")]\n",
    "        X_train = df_train[[\"species\", \"bacteria_genus\", \"submitted_sample_category\"]+ list(sir_col_name)]\n",
    "        X_test = df_test[[\"species\", \"bacteria_genus\", \"submitted_sample_category\"]+ list(df_test.columns[df_test.columns.str.startswith(\"S/I/R_\")])]\n",
    "        y_train = df_train[ans_col_name[i]]\n",
    "        y_test = df_test[ans_col_name[i]]\n",
    "        \n",
    "        xgb_model = getModel(vitek_id, anti_name) # XGB Model\n",
    "        X_train_dummies = pd.get_dummies(X_train) # One-Hot Train\n",
    "        X_test_dummies = get_dummies_dataframe_columns(X_train_dummies, X_test) # One-Hot Test\n",
    "        X_train_res, y_train_res = SMOTERounding(smote[i]).fit_resample(X_train_dummies, y_train) # SMOTE\n",
    "        \n",
    "        xgb_model.fit(X_train_res, y_train_res)\n",
    "        \n",
    "        joblib.dump(xgb_model, f\"./Model/{vitek_id}/{anti_name}.joblib\") # dump model\n",
    "        schema[anti_name] = list(X_train_res.columns) # schema\n",
    "        \n",
    "        # result = evaluation(X_test_dummies, y_test.astype(bool), {\"Before\": xgb_default, \"After\": xgb_model})\n",
    "        result = evaluation(X_test_dummies, y_test.astype(bool), {\"After\": xgb_model})\n",
    "        result.index.name = \"Before/After\"\n",
    "        result.insert(0, \"Antimicrobial\", ans_col_name[i].replace(\"ans_\", \"\"))\n",
    "        eval_df = eval_df.append(result)\n",
    "        \n",
    "    # export schema\n",
    "    schema_path = f\"./Model/{vitek_id}/{vitek_id}_schema.txt\"\n",
    "    schema_file = open(schema_path ,'w') if os.path.exists(schema_path) else open(schema_path ,'x')\n",
    "    schema_file.write(str(schema))\n",
    "    schema_file.close()\n",
    "        \n",
    "    return eval_df"
   ]
  },
  {
   "cell_type": "code",
   "execution_count": 14,
   "metadata": {},
   "outputs": [],
   "source": [
    "# ใช้ defult parameter (ใช้ Test set วัดประสิทธิภาพ)\n",
    "from tqdm import tnrange\n",
    "def eval_test_default_parameter(vitek_id: str):\n",
    "    ans_col_name = gn_ans_col_name if vitek_id == \"GN\" else gp_ans_col_name\n",
    "    smote = GN_SMOTE if vitek_id == \"GN\" else GP_SMOTE\n",
    "    eval_df = pd.DataFrame()\n",
    "    schema = {}\n",
    "    smote_name = gn_smote_name if vitek_id == \"GN\" else gp_smote_name\n",
    "    for i in tnrange(11, desc='tnrange'):\n",
    "        anti_name = ans_col_name[i].replace(\"ans_\", \"\").replace(\"/\", \"_\")\n",
    "        df_train = pd.read_csv(f\"./Dataset/{vitek_id}/Train/Train_{vitek_id}_{anti_name}.csv\")\n",
    "        df_test = pd.read_csv(f\"./Dataset/{vitek_id}/Test/Test_{vitek_id}_{anti_name}.csv\")\n",
    "        sir_col_name = df_train.columns[df_train.columns.str.startswith(\"S/I/R_\")]\n",
    "        X_train = df_train[[\"species\", \"bacteria_genus\", \"submitted_sample_category\"]+ list(sir_col_name)]\n",
    "        X_test = df_test[[\"species\", \"bacteria_genus\", \"submitted_sample_category\"]+ list(df_test.columns[df_test.columns.str.startswith(\"S/I/R_\")])]\n",
    "        y_train = df_train[ans_col_name[i]]\n",
    "        y_test = df_test[ans_col_name[i]]\n",
    "        \n",
    "        xgb_default = XGBClassifier(eval_metric=f1_score, verbosity=0, random_state=0, tree_method='gpu_hist', gpu_id=1, use_label_encoder=False)\n",
    "        X_train_dummies = pd.get_dummies(X_train) # One-Hot Train\n",
    "        X_test_dummies = get_dummies_dataframe_columns(X_train_dummies, X_test) # One-Hot Test\n",
    "        X_train_res, y_train_res = SMOTERounding(smote[i]).fit_resample(X_train_dummies, y_train) # SMOTE\n",
    "        \n",
    "        xgb_default.fit(X_train_res, y_train_res)\n",
    "        \n",
    "        joblib.dump(xgb_default, f\"./Model/{vitek_id}/{anti_name}.joblib\") # dump model\n",
    "        schema[anti_name] = list(X_train_res.columns) # schema\n",
    "        \n",
    "        result = evaluation(X_test_dummies, y_test.astype(bool), {\"Before\": xgb_default})\n",
    "        result.index.name = \"Before/After\"\n",
    "        result.insert(0, \"Antimicrobial\", ans_col_name[i].replace(\"ans_\", \"\"))\n",
    "        eval_df = eval_df.append(result)\n",
    "    \n",
    "    # Export Schema (Schema ชื่อ columns ของข้อมูลสำหรับนำไปเรียกใช้งานโมเดล)\n",
    "    schema_path = f\"./Model/{vitek_id}/{vitek_id}_schema.txt\"\n",
    "    schema_file = open(schema_path ,'w') if os.path.exists(schema_path) else open(schema_path ,'x')\n",
    "    schema_file.write(str(schema))\n",
    "    schema_file.close()\n",
    "        \n",
    "    return eval_df"
   ]
  },
  {
   "cell_type": "code",
   "execution_count": null,
   "metadata": {},
   "outputs": [],
   "source": [
    "eval_test_default_parameter(\"GN\")"
   ]
  },
  {
   "cell_type": "code",
   "execution_count": null,
   "metadata": {},
   "outputs": [],
   "source": [
    "eval_test_default_parameter(\"GP\")"
   ]
  },
  {
   "cell_type": "code",
   "execution_count": null,
   "metadata": {},
   "outputs": [],
   "source": [
    "crossValidation(\"GN\")"
   ]
  },
  {
   "cell_type": "code",
   "execution_count": null,
   "metadata": {},
   "outputs": [],
   "source": [
    "crossValidation(\"GP\")"
   ]
  },
  {
   "cell_type": "code",
   "execution_count": 30,
   "metadata": {},
   "outputs": [
    {
     "data": {
      "application/vnd.jupyter.widget-view+json": {
       "model_id": "fe3d22248e224b08a055af50fb244898",
       "version_major": 2,
       "version_minor": 0
      },
      "text/plain": [
       "tnrange:   0%|          | 0/11 [00:00<?, ?it/s]"
      ]
     },
     "metadata": {},
     "output_type": "display_data"
    },
    {
     "name": "stdout",
     "output_type": "stream",
     "text": [
      "/***********************\n",
      "GN amikacin\n",
      "{'cv': StratifiedKFold(n_splits=10, random_state=0, shuffle=True), 'error_score': nan, 'estimator__memory': None, 'estimator__steps': (('sam', <function.SMOTERounding.SMOTERounding object at 0x00000215DDFB1BE0>), ('clf', XGBClassifier(base_score=None, booster=None, callbacks=None,\n",
      "              colsample_bylevel=None, colsample_bynode=None,\n",
      "              colsample_bytree=None, early_stopping_rounds=None,\n",
      "              enable_categorical=False,\n",
      "              eval_metric=<function f1_score at 0x00000215DBB9C5E0>,\n",
      "              feature_types=None, gamma=None, gpu_id=1, grow_policy=None,\n",
      "              importance_type=None, interaction_constraints=None,\n",
      "              learning_rate=None, max_bin=None, max_cat_threshold=None,\n",
      "              max_cat_to_onehot=None, max_delta_step=None, max_depth=None,\n",
      "              max_leaves=None, min_child_weight=None, missing=nan,\n",
      "              monotone_constraints=None, n_estimators=100, n_jobs=None,\n",
      "              num_parallel_tree=None, predictor=None, random_state=0, ...))), 'estimator__verbose': False, 'estimator__sam': <function.SMOTERounding.SMOTERounding object at 0x00000215DDFB1BE0>, 'estimator__clf': XGBClassifier(base_score=None, booster=None, callbacks=None,\n",
      "              colsample_bylevel=None, colsample_bynode=None,\n",
      "              colsample_bytree=None, early_stopping_rounds=None,\n",
      "              enable_categorical=False,\n",
      "              eval_metric=<function f1_score at 0x00000215DBB9C5E0>,\n",
      "              feature_types=None, gamma=None, gpu_id=1, grow_policy=None,\n",
      "              importance_type=None, interaction_constraints=None,\n",
      "              learning_rate=None, max_bin=None, max_cat_threshold=None,\n",
      "              max_cat_to_onehot=None, max_delta_step=None, max_depth=None,\n",
      "              max_leaves=None, min_child_weight=None, missing=nan,\n",
      "              monotone_constraints=None, n_estimators=100, n_jobs=None,\n",
      "              num_parallel_tree=None, predictor=None, random_state=0, ...), 'estimator__clf__objective': 'binary:logistic', 'estimator__clf__use_label_encoder': None, 'estimator__clf__base_score': None, 'estimator__clf__booster': None, 'estimator__clf__callbacks': None, 'estimator__clf__colsample_bylevel': None, 'estimator__clf__colsample_bynode': None, 'estimator__clf__colsample_bytree': None, 'estimator__clf__early_stopping_rounds': None, 'estimator__clf__enable_categorical': False, 'estimator__clf__eval_metric': <function f1_score at 0x00000215DBB9C5E0>, 'estimator__clf__feature_types': None, 'estimator__clf__gamma': None, 'estimator__clf__gpu_id': 1, 'estimator__clf__grow_policy': None, 'estimator__clf__importance_type': None, 'estimator__clf__interaction_constraints': None, 'estimator__clf__learning_rate': None, 'estimator__clf__max_bin': None, 'estimator__clf__max_cat_threshold': None, 'estimator__clf__max_cat_to_onehot': None, 'estimator__clf__max_delta_step': None, 'estimator__clf__max_depth': None, 'estimator__clf__max_leaves': None, 'estimator__clf__min_child_weight': None, 'estimator__clf__missing': nan, 'estimator__clf__monotone_constraints': None, 'estimator__clf__n_estimators': 100, 'estimator__clf__n_jobs': None, 'estimator__clf__num_parallel_tree': None, 'estimator__clf__predictor': None, 'estimator__clf__random_state': 0, 'estimator__clf__reg_alpha': None, 'estimator__clf__reg_lambda': None, 'estimator__clf__sampling_method': None, 'estimator__clf__scale_pos_weight': None, 'estimator__clf__subsample': None, 'estimator__clf__tree_method': 'gpu_hist', 'estimator__clf__validate_parameters': None, 'estimator__clf__verbosity': 0, 'estimator': Pipeline(steps=(('sam',\n",
      "                 <function.SMOTERounding.SMOTERounding object at 0x00000215DDFB1BE0>),\n",
      "                ('clf',\n",
      "                 XGBClassifier(base_score=None, booster=None, callbacks=None,\n",
      "                               colsample_bylevel=None, colsample_bynode=None,\n",
      "                               colsample_bytree=None,\n",
      "                               early_stopping_rounds=None,\n",
      "                               enable_categorical=False,\n",
      "                               eval_metric=<function f1_score at 0x00000215DBB9C5E0>,\n",
      "                               feature_types=None, gamma=N...id=1,\n",
      "                               grow_policy=None, importance_type=None,\n",
      "                               interaction_constraints=None, learning_rate=None,\n",
      "                               max_bin=None, max_cat_threshold=None,\n",
      "                               max_cat_to_onehot=None, max_delta_step=None,\n",
      "                               max_depth=None, max_leaves=None,\n",
      "                               min_child_weight=None, missing=nan,\n",
      "                               monotone_constraints=None, n_estimators=100,\n",
      "                               n_jobs=None, num_parallel_tree=None,\n",
      "                               predictor=None, random_state=0, ...)))), 'n_jobs': 5, 'param_grid': {'clf__n_estimators': [100, 1000], 'clf__gamma': [0.5, 1, 2], 'clf__max_depth': [5, 6, 7], 'clf__subsample': [0.5, 0.7, 1], 'clf__colsample_bytree': [0.5, 0.7, 1], 'clf__learning_rate': [0.3, 0.1]}, 'pre_dispatch': '2*n_jobs', 'refit': True, 'return_train_score': False, 'scoring': 'f1', 'verbose': 0}\n"
     ]
    },
    {
     "ename": "TypeError",
     "evalue": "'dict' object is not callable",
     "output_type": "error",
     "traceback": [
      "\u001b[1;31m---------------------------------------------------------------------------\u001b[0m",
      "\u001b[1;31mTypeError\u001b[0m                                 Traceback (most recent call last)",
      "\u001b[1;32m~\\AppData\\Local\\Temp\\ipykernel_25688\\2668639150.py\u001b[0m in \u001b[0;36m<module>\u001b[1;34m\u001b[0m\n\u001b[1;32m----> 1\u001b[1;33m \u001b[0meval_test_paramerter_tuning\u001b[0m\u001b[1;33m(\u001b[0m\u001b[1;34m\"GN\"\u001b[0m\u001b[1;33m)\u001b[0m\u001b[1;33m\u001b[0m\u001b[1;33m\u001b[0m\u001b[0m\n\u001b[0m",
      "\u001b[1;32m~\\AppData\\Local\\Temp\\ipykernel_25688\\172066315.py\u001b[0m in \u001b[0;36meval_test_paramerter_tuning\u001b[1;34m(vitek_id)\u001b[0m\n\u001b[0;32m     17\u001b[0m         \u001b[0my_test\u001b[0m \u001b[1;33m=\u001b[0m \u001b[0mdf_test\u001b[0m\u001b[1;33m[\u001b[0m\u001b[0mans_col_name\u001b[0m\u001b[1;33m[\u001b[0m\u001b[0mi\u001b[0m\u001b[1;33m]\u001b[0m\u001b[1;33m]\u001b[0m\u001b[1;33m\u001b[0m\u001b[1;33m\u001b[0m\u001b[0m\n\u001b[0;32m     18\u001b[0m \u001b[1;33m\u001b[0m\u001b[0m\n\u001b[1;32m---> 19\u001b[1;33m         \u001b[0mxgb_model\u001b[0m \u001b[1;33m=\u001b[0m \u001b[0mgetModel\u001b[0m\u001b[1;33m(\u001b[0m\u001b[0mvitek_id\u001b[0m\u001b[1;33m,\u001b[0m \u001b[0manti_name\u001b[0m\u001b[1;33m)\u001b[0m \u001b[1;31m# XGB Model\u001b[0m\u001b[1;33m\u001b[0m\u001b[1;33m\u001b[0m\u001b[0m\n\u001b[0m\u001b[0;32m     20\u001b[0m         \u001b[0mX_train_dummies\u001b[0m \u001b[1;33m=\u001b[0m \u001b[0mpd\u001b[0m\u001b[1;33m.\u001b[0m\u001b[0mget_dummies\u001b[0m\u001b[1;33m(\u001b[0m\u001b[0mX_train\u001b[0m\u001b[1;33m)\u001b[0m \u001b[1;31m# One-Hot Train\u001b[0m\u001b[1;33m\u001b[0m\u001b[1;33m\u001b[0m\u001b[0m\n\u001b[0;32m     21\u001b[0m         \u001b[0mX_test_dummies\u001b[0m \u001b[1;33m=\u001b[0m \u001b[0mget_dummies_dataframe_columns\u001b[0m\u001b[1;33m(\u001b[0m\u001b[0mX_train_dummies\u001b[0m\u001b[1;33m,\u001b[0m \u001b[0mX_test\u001b[0m\u001b[1;33m)\u001b[0m \u001b[1;31m# One-Hot Test\u001b[0m\u001b[1;33m\u001b[0m\u001b[1;33m\u001b[0m\u001b[0m\n",
      "\u001b[1;32m~\\AppData\\Local\\Temp\\ipykernel_25688\\385286525.py\u001b[0m in \u001b[0;36mgetModel\u001b[1;34m(vitek_id, anti_name)\u001b[0m\n\u001b[0;32m      8\u001b[0m     xgb = XGBClassifier(eval_metric=f1_score, verbosity=0, use_label_encoder=False,\n\u001b[0;32m      9\u001b[0m                         \u001b[0mrandom_state\u001b[0m\u001b[1;33m=\u001b[0m\u001b[1;36m0\u001b[0m\u001b[1;33m,\u001b[0m \u001b[0mtree_method\u001b[0m\u001b[1;33m=\u001b[0m\u001b[1;34m'gpu_hist'\u001b[0m\u001b[1;33m,\u001b[0m \u001b[0mgpu_id\u001b[0m\u001b[1;33m=\u001b[0m\u001b[1;36m1\u001b[0m\u001b[1;33m,\u001b[0m\u001b[1;33m\u001b[0m\u001b[1;33m\u001b[0m\u001b[0m\n\u001b[1;32m---> 10\u001b[1;33m                         \u001b[0mcolsample_bytree\u001b[0m\u001b[1;33m=\u001b[0m\u001b[0mparams\u001b[0m\u001b[1;33m(\u001b[0m\u001b[1;34m'colsample_bytree'\u001b[0m\u001b[1;33m,\u001b[0m \u001b[0mdefaults\u001b[0m\u001b[1;33m=\u001b[0m\u001b[1;36m1.0\u001b[0m\u001b[1;33m)\u001b[0m\u001b[1;33m,\u001b[0m\u001b[1;33m\u001b[0m\u001b[1;33m\u001b[0m\u001b[0m\n\u001b[0m\u001b[0;32m     11\u001b[0m                         \u001b[0mgamma\u001b[0m\u001b[1;33m=\u001b[0m\u001b[0mparams\u001b[0m\u001b[1;33m[\u001b[0m\u001b[1;34m\"gamma\"\u001b[0m\u001b[1;33m]\u001b[0m\u001b[1;33m,\u001b[0m\u001b[1;33m\u001b[0m\u001b[1;33m\u001b[0m\u001b[0m\n\u001b[0;32m     12\u001b[0m                         \u001b[0mlearning_rate\u001b[0m\u001b[1;33m=\u001b[0m\u001b[0mparams\u001b[0m\u001b[1;33m[\u001b[0m\u001b[1;34m\"learning_rate\"\u001b[0m\u001b[1;33m]\u001b[0m\u001b[1;33m,\u001b[0m\u001b[1;33m\u001b[0m\u001b[1;33m\u001b[0m\u001b[0m\n",
      "\u001b[1;31mTypeError\u001b[0m: 'dict' object is not callable"
     ]
    }
   ],
   "source": [
    "eval_test_paramerter_tuning(\"GN\")"
   ]
  },
  {
   "cell_type": "code",
   "execution_count": 22,
   "metadata": {},
   "outputs": [
    {
     "data": {
      "application/vnd.jupyter.widget-view+json": {
       "model_id": "3d0ec0057c564fd8bed7f24618d2e6ad",
       "version_major": 2,
       "version_minor": 0
      },
      "text/plain": [
       "tnrange:   0%|          | 0/11 [00:00<?, ?it/s]"
      ]
     },
     "metadata": {},
     "output_type": "display_data"
    },
    {
     "name": "stdout",
     "output_type": "stream",
     "text": [
      "{'cv': StratifiedKFold(n_splits=10, random_state=0, shuffle=True), 'error_score': nan, 'estimator__memory': None, 'estimator__steps': (('sam', <function.SMOTERounding.SMOTERounding object at 0x00000215DD78FD30>), ('clf', XGBClassifier(base_score=None, booster=None, callbacks=None,\n",
      "              colsample_bylevel=None, colsample_bynode=None,\n",
      "              colsample_bytree=None, early_stopping_rounds=None,\n",
      "              enable_categorical=False,\n",
      "              eval_metric=<function f1_score at 0x00000215DBB9C5E0>,\n",
      "              feature_types=None, gamma=None, gpu_id=1, grow_policy=None,\n",
      "              importance_type=None, interaction_constraints=None,\n",
      "              learning_rate=None, max_bin=None, max_cat_threshold=None,\n",
      "              max_cat_to_onehot=None, max_delta_step=None, max_depth=None,\n",
      "              max_leaves=None, min_child_weight=None, missing=nan,\n",
      "              monotone_constraints=None, n_estimators=100, n_jobs=None,\n",
      "              num_parallel_tree=None, predictor=None, random_state=0, ...))), 'estimator__verbose': False, 'estimator__sam': <function.SMOTERounding.SMOTERounding object at 0x00000215DD78FD30>, 'estimator__clf': XGBClassifier(base_score=None, booster=None, callbacks=None,\n",
      "              colsample_bylevel=None, colsample_bynode=None,\n",
      "              colsample_bytree=None, early_stopping_rounds=None,\n",
      "              enable_categorical=False,\n",
      "              eval_metric=<function f1_score at 0x00000215DBB9C5E0>,\n",
      "              feature_types=None, gamma=None, gpu_id=1, grow_policy=None,\n",
      "              importance_type=None, interaction_constraints=None,\n",
      "              learning_rate=None, max_bin=None, max_cat_threshold=None,\n",
      "              max_cat_to_onehot=None, max_delta_step=None, max_depth=None,\n",
      "              max_leaves=None, min_child_weight=None, missing=nan,\n",
      "              monotone_constraints=None, n_estimators=100, n_jobs=None,\n",
      "              num_parallel_tree=None, predictor=None, random_state=0, ...), 'estimator__clf__objective': 'binary:logistic', 'estimator__clf__use_label_encoder': None, 'estimator__clf__base_score': None, 'estimator__clf__booster': None, 'estimator__clf__callbacks': None, 'estimator__clf__colsample_bylevel': None, 'estimator__clf__colsample_bynode': None, 'estimator__clf__colsample_bytree': None, 'estimator__clf__early_stopping_rounds': None, 'estimator__clf__enable_categorical': False, 'estimator__clf__eval_metric': <function f1_score at 0x00000215DBB9C5E0>, 'estimator__clf__feature_types': None, 'estimator__clf__gamma': None, 'estimator__clf__gpu_id': 1, 'estimator__clf__grow_policy': None, 'estimator__clf__importance_type': None, 'estimator__clf__interaction_constraints': None, 'estimator__clf__learning_rate': None, 'estimator__clf__max_bin': None, 'estimator__clf__max_cat_threshold': None, 'estimator__clf__max_cat_to_onehot': None, 'estimator__clf__max_delta_step': None, 'estimator__clf__max_depth': None, 'estimator__clf__max_leaves': None, 'estimator__clf__min_child_weight': None, 'estimator__clf__missing': nan, 'estimator__clf__monotone_constraints': None, 'estimator__clf__n_estimators': 100, 'estimator__clf__n_jobs': None, 'estimator__clf__num_parallel_tree': None, 'estimator__clf__predictor': None, 'estimator__clf__random_state': 0, 'estimator__clf__reg_alpha': None, 'estimator__clf__reg_lambda': None, 'estimator__clf__sampling_method': None, 'estimator__clf__scale_pos_weight': None, 'estimator__clf__subsample': None, 'estimator__clf__tree_method': 'gpu_hist', 'estimator__clf__validate_parameters': None, 'estimator__clf__verbosity': 0, 'estimator': Pipeline(steps=(('sam',\n",
      "                 <function.SMOTERounding.SMOTERounding object at 0x00000215DD78FD30>),\n",
      "                ('clf',\n",
      "                 XGBClassifier(base_score=None, booster=None, callbacks=None,\n",
      "                               colsample_bylevel=None, colsample_bynode=None,\n",
      "                               colsample_bytree=None,\n",
      "                               early_stopping_rounds=None,\n",
      "                               enable_categorical=False,\n",
      "                               eval_metric=<function f1_score at 0x00000215DBB9C5E0>,\n",
      "                               feature_types=None, gamma=N...id=1,\n",
      "                               grow_policy=None, importance_type=None,\n",
      "                               interaction_constraints=None, learning_rate=None,\n",
      "                               max_bin=None, max_cat_threshold=None,\n",
      "                               max_cat_to_onehot=None, max_delta_step=None,\n",
      "                               max_depth=None, max_leaves=None,\n",
      "                               min_child_weight=None, missing=nan,\n",
      "                               monotone_constraints=None, n_estimators=100,\n",
      "                               n_jobs=None, num_parallel_tree=None,\n",
      "                               predictor=None, random_state=0, ...)))), 'n_jobs': 5, 'param_grid': {'clf__n_estimators': [100, 1000], 'clf__gamma': [0.5, 1, 2], 'clf__max_depth': [5, 6, 7], 'clf__subsample': [0.5, 0.7, 1], 'clf__colsample_bytree': [0.5, 0.7, 1], 'clf__learning_rate': [0.3, 0.1]}, 'pre_dispatch': '2*n_jobs', 'refit': True, 'return_train_score': False, 'scoring': 'f1', 'verbose': 0}\n"
     ]
    },
    {
     "ename": "KeyError",
     "evalue": "'colsample_bytree'",
     "output_type": "error",
     "traceback": [
      "\u001b[1;31m---------------------------------------------------------------------------\u001b[0m",
      "\u001b[1;31mKeyError\u001b[0m                                  Traceback (most recent call last)",
      "\u001b[1;32m~\\AppData\\Local\\Temp\\ipykernel_25688\\4085659717.py\u001b[0m in \u001b[0;36m<module>\u001b[1;34m\u001b[0m\n\u001b[1;32m----> 1\u001b[1;33m \u001b[0meval_test_paramerter_tuning\u001b[0m\u001b[1;33m(\u001b[0m\u001b[1;34m\"GP\"\u001b[0m\u001b[1;33m)\u001b[0m\u001b[1;33m\u001b[0m\u001b[1;33m\u001b[0m\u001b[0m\n\u001b[0m",
      "\u001b[1;32m~\\AppData\\Local\\Temp\\ipykernel_25688\\172066315.py\u001b[0m in \u001b[0;36meval_test_paramerter_tuning\u001b[1;34m(vitek_id)\u001b[0m\n\u001b[0;32m     17\u001b[0m         \u001b[0my_test\u001b[0m \u001b[1;33m=\u001b[0m \u001b[0mdf_test\u001b[0m\u001b[1;33m[\u001b[0m\u001b[0mans_col_name\u001b[0m\u001b[1;33m[\u001b[0m\u001b[0mi\u001b[0m\u001b[1;33m]\u001b[0m\u001b[1;33m]\u001b[0m\u001b[1;33m\u001b[0m\u001b[1;33m\u001b[0m\u001b[0m\n\u001b[0;32m     18\u001b[0m \u001b[1;33m\u001b[0m\u001b[0m\n\u001b[1;32m---> 19\u001b[1;33m         \u001b[0mxgb_model\u001b[0m \u001b[1;33m=\u001b[0m \u001b[0mgetModel\u001b[0m\u001b[1;33m(\u001b[0m\u001b[0mvitek_id\u001b[0m\u001b[1;33m,\u001b[0m \u001b[0manti_name\u001b[0m\u001b[1;33m)\u001b[0m \u001b[1;31m# XGB Model\u001b[0m\u001b[1;33m\u001b[0m\u001b[1;33m\u001b[0m\u001b[0m\n\u001b[0m\u001b[0;32m     20\u001b[0m         \u001b[0mX_train_dummies\u001b[0m \u001b[1;33m=\u001b[0m \u001b[0mpd\u001b[0m\u001b[1;33m.\u001b[0m\u001b[0mget_dummies\u001b[0m\u001b[1;33m(\u001b[0m\u001b[0mX_train\u001b[0m\u001b[1;33m)\u001b[0m \u001b[1;31m# One-Hot Train\u001b[0m\u001b[1;33m\u001b[0m\u001b[1;33m\u001b[0m\u001b[0m\n\u001b[0;32m     21\u001b[0m         \u001b[0mX_test_dummies\u001b[0m \u001b[1;33m=\u001b[0m \u001b[0mget_dummies_dataframe_columns\u001b[0m\u001b[1;33m(\u001b[0m\u001b[0mX_train_dummies\u001b[0m\u001b[1;33m,\u001b[0m \u001b[0mX_test\u001b[0m\u001b[1;33m)\u001b[0m \u001b[1;31m# One-Hot Test\u001b[0m\u001b[1;33m\u001b[0m\u001b[1;33m\u001b[0m\u001b[0m\n",
      "\u001b[1;32m~\\AppData\\Local\\Temp\\ipykernel_25688\\2115912511.py\u001b[0m in \u001b[0;36mgetModel\u001b[1;34m(vitek_id, anti_name)\u001b[0m\n\u001b[0;32m      6\u001b[0m     xgb = XGBClassifier(eval_metric=f1_score, verbosity=0, use_label_encoder=False,\n\u001b[0;32m      7\u001b[0m                         \u001b[0mrandom_state\u001b[0m\u001b[1;33m=\u001b[0m\u001b[1;36m0\u001b[0m\u001b[1;33m,\u001b[0m \u001b[0mtree_method\u001b[0m\u001b[1;33m=\u001b[0m\u001b[1;34m'gpu_hist'\u001b[0m\u001b[1;33m,\u001b[0m \u001b[0mgpu_id\u001b[0m\u001b[1;33m=\u001b[0m\u001b[1;36m1\u001b[0m\u001b[1;33m,\u001b[0m\u001b[1;33m\u001b[0m\u001b[1;33m\u001b[0m\u001b[0m\n\u001b[1;32m----> 8\u001b[1;33m                         \u001b[0mcolsample_bytree\u001b[0m\u001b[1;33m=\u001b[0m\u001b[0mparams\u001b[0m\u001b[1;33m[\u001b[0m\u001b[1;34m\"colsample_bytree\"\u001b[0m\u001b[1;33m]\u001b[0m\u001b[1;33m,\u001b[0m\u001b[1;33m\u001b[0m\u001b[1;33m\u001b[0m\u001b[0m\n\u001b[0m\u001b[0;32m      9\u001b[0m                         \u001b[0mgamma\u001b[0m\u001b[1;33m=\u001b[0m\u001b[0mparams\u001b[0m\u001b[1;33m[\u001b[0m\u001b[1;34m\"gamma\"\u001b[0m\u001b[1;33m]\u001b[0m\u001b[1;33m,\u001b[0m\u001b[1;33m\u001b[0m\u001b[1;33m\u001b[0m\u001b[0m\n\u001b[0;32m     10\u001b[0m                         \u001b[0mlearning_rate\u001b[0m\u001b[1;33m=\u001b[0m\u001b[0mparams\u001b[0m\u001b[1;33m[\u001b[0m\u001b[1;34m\"learning_rate\"\u001b[0m\u001b[1;33m]\u001b[0m\u001b[1;33m,\u001b[0m\u001b[1;33m\u001b[0m\u001b[1;33m\u001b[0m\u001b[0m\n",
      "\u001b[1;31mKeyError\u001b[0m: 'colsample_bytree'"
     ]
    }
   ],
   "source": [
    "eval_test_paramerter_tuning(\"GP\")"
   ]
  },
  {
   "cell_type": "code",
   "execution_count": null,
   "metadata": {},
   "outputs": [],
   "source": []
  }
 ],
 "metadata": {
  "kernelspec": {
   "display_name": "Python 3 (ipykernel)",
   "language": "python",
   "name": "python3"
  },
  "language_info": {
   "codemirror_mode": {
    "name": "ipython",
    "version": 3
   },
   "file_extension": ".py",
   "mimetype": "text/x-python",
   "name": "python",
   "nbconvert_exporter": "python",
   "pygments_lexer": "ipython3",
   "version": "3.8.16"
  },
  "vscode": {
   "interpreter": {
    "hash": "b607f27b5c425f1dfa2b3cb827e4360136c5338da351f9c2081803bab96a159a"
   }
  }
 },
 "nbformat": 4,
 "nbformat_minor": 2
}
