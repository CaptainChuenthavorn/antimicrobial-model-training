{
 "cells": [
  {
   "cell_type": "code",
   "execution_count": 1,
   "metadata": {},
   "outputs": [],
   "source": [
    "from function.validation import *\n",
    "from function.rsmote import *\n",
    "from function.SMOTERounding import *\n",
    "\n",
    "import os\n",
    "import numpy as np\n",
    "import pandas as pd\n",
    "import joblib\n",
    "import matplotlib.pyplot as plt\n",
    "from sklearn.model_selection import KFold, StratifiedKFold, train_test_split, GridSearchCV, RepeatedStratifiedKFold\n",
    "from sklearn.tree import DecisionTreeClassifier\n",
    "from sklearn.svm import SVC\n",
    "from sklearn.ensemble import RandomForestClassifier, GradientBoostingClassifier, AdaBoostClassifier\n",
    "from sklearn.metrics import precision_score, recall_score, f1_score, accuracy_score, roc_auc_score, confusion_matrix\n",
    "from sklearn.preprocessing import LabelEncoder, OneHotEncoder, LabelBinarizer\n",
    "from sklearn.decomposition import PCA\n",
    "from xgboost import XGBClassifier, plot_importance\n",
    "from imblearn.pipeline import Pipeline\n",
    "\n",
    "from imblearn.over_sampling import SMOTE, SMOTEN, SMOTENC, SVMSMOTE, KMeansSMOTE, RandomOverSampler,BorderlineSMOTE, ADASYN\n",
    "from imblearn.under_sampling import TomekLinks, EditedNearestNeighbours, NearMiss, RepeatedEditedNearestNeighbours\n",
    "from imblearn.combine import SMOTEENN, SMOTETomek \n",
    "from imblearn.metrics import geometric_mean_score\n",
    "\n",
    "from IPython.display import Markdown, display\n",
    "import matplotlib.pyplot as plt\n",
    "\n",
    "import warnings\n",
    "warnings.filterwarnings('ignore')"
   ]
  },
  {
   "cell_type": "code",
   "execution_count": 2,
   "metadata": {
    "scrolled": true
   },
   "outputs": [
    {
     "data": {
      "application/vnd.jupyter.widget-view+json": {
       "model_id": "947127918d06416bbdee4f2099b39c8a",
       "version_major": 2,
       "version_minor": 0
      },
      "text/plain": [
       "tqdm:   0%|          | 0/10 [00:00<?, ?it/s]"
      ]
     },
     "metadata": {},
     "output_type": "display_data"
    },
    {
     "data": {
      "application/vnd.jupyter.widget-view+json": {
       "model_id": "eb726be308cd4e728302bf167d5f9e5d",
       "version_major": 2,
       "version_minor": 0
      },
      "text/plain": [
       "tnrange:   0%|          | 0/10 [00:00<?, ?it/s]"
      ]
     },
     "metadata": {},
     "output_type": "display_data"
    }
   ],
   "source": [
    "from tqdm.notebook import tqdm\n",
    "from time import sleep\n",
    "for _ in tqdm(range(10), desc='tqdm'):\n",
    "    sleep(0.5)\n",
    "from tqdm.notebook import tnrange\n",
    "for _ in tnrange(10, desc='tnrange'):\n",
    "    sleep(0.5)"
   ]
  },
  {
   "cell_type": "markdown",
   "metadata": {},
   "source": [
    "กำหนด SMOTE Alogorithm ตามที่เลือกไว้จากการเปรียบเทียบในไฟล์ 2_cross_validation_compare_smote.ipynb"
   ]
  },
  {
   "cell_type": "code",
   "execution_count": 3,
   "metadata": {},
   "outputs": [],
   "source": [
    "# SMOTE Alogorithm เรียงตามชื่อยา (ชื่อยาเรียงตามตัวอักษร)\n",
    "GN_SMOTE = [\n",
    "    RSmoteKClasses(random_state=0), #amikancin \n",
    "    SVMSMOTE(random_state=0, n_jobs=-1), #amoxicillin/clavulanic acid\n",
    "    RSmoteKClasses(random_state=0), #cefalexin\n",
    "    ADASYN(random_state=0, n_jobs=-1), #cefovecin\n",
    "    BorderlineSMOTE(random_state=0, n_jobs=-1), #doxycycline\n",
    "    RSmoteKClasses(random_state=0), #enrofloxacin\n",
    "    RSmoteKClasses(random_state=0), #gentamicin\n",
    "    SVMSMOTE(random_state=0 ,n_jobs=-1), #imipenem\n",
    "    RSmoteKClasses(random_state=0), #marbofloxacin\n",
    "    SVMSMOTE(random_state=0, n_jobs=-1), #nitrofurantoin\n",
    "    SVMSMOTE(random_state=0, n_jobs=-1), #trimethoprim/sulfamethoxazole\n",
    "]\n",
    "\n",
    "GP_SMOTE = [\n",
    "    BorderlineSMOTE(random_state=0, n_jobs=-1), #amikancin \n",
    "    BorderlineSMOTE(random_state=0, n_jobs=-1), #amoxicillin/clavulanic acid\n",
    "    SMOTE(random_state=0, n_jobs=-1), #cefalexin\n",
    "    SVMSMOTE(random_state=0, n_jobs=-1), #cefovecin\n",
    "    SVMSMOTE(random_state=0, n_jobs=-1), #clindamycin\n",
    "    RSmoteKClasses(random_state=0), #doxycycline\n",
    "    RSmoteKClasses(random_state=0), #enrofloxacin\n",
    "    BorderlineSMOTE(random_state=0, n_jobs=-1), #marbofloxacin\n",
    "    RSmoteKClasses(random_state=0), #nitrofurantoin\n",
    "    SVMSMOTE(random_state=0, n_jobs=-1), #trimethoprim/sulfamethoxazole\n",
    "    SMOTE(random_state=0, n_jobs=-1) #vancomycin\n",
    "]"
   ]
  },
  {
   "cell_type": "code",
   "execution_count": 4,
   "metadata": {},
   "outputs": [],
   "source": [
    "# GN\n",
    "ans_gn_name = ['amikacin',\n",
    "'amoxicillin/clavulanic acid',\n",
    "'cefalexin',\n",
    "'cefovecin',\n",
    "'doxycycline',\n",
    "'enrofloxacin',\n",
    "'gentamicin',\n",
    "'imipenem',\n",
    "'marbofloxacin',\n",
    "'nitrofurantoin',\n",
    "'trimethoprim/sulfamethoxazole']\n",
    "gn_ans_col_name = [\"ans_\" + e for e in ans_gn_name]\n",
    "\n",
    "# GP\n",
    "ans_gp_name = ['amikacin',\n",
    " 'amoxicillin/clavulanic acid',\n",
    " 'cefalexin',\n",
    " 'cefovecin',\n",
    " 'clindamycin',\n",
    " 'doxycycline',\n",
    " 'enrofloxacin',\n",
    " 'marbofloxacin',\n",
    " 'nitrofurantoin',\n",
    " 'trimethoprim/sulfamethoxazole',\n",
    " 'vancomycin']\n",
    "gp_ans_col_name = [\"ans_\" + e for e in ans_gp_name]"
   ]
  },
  {
   "cell_type": "code",
   "execution_count": 5,
   "metadata": {},
   "outputs": [],
   "source": [
    "def getData(vitek_id: str, i : int):\n",
    "    ans_col_name = gn_ans_col_name if vitek_id == \"GN\" else gp_ans_col_name\n",
    "    ans_name = ans_col_name[i].replace(\"ans_\", \"\").replace(\"/\", \"_\")\n",
    "    df_train = pd.read_csv(f\"./Dataset/{vitek_id}/Train/Train_{vitek_id}_{ans_name}.csv\")\n",
    "\n",
    "    X_train = df_train[[\"species\",\"submitted_sample_category\",\"bacteria_genus\"] + list(df_train.columns[df_train.columns.str.startswith(\"S/I/R\")])]\n",
    "    y_train = df_train[ans_col_name[i]]\n",
    "    return X_train , y_train "
   ]
  },
  {
   "cell_type": "code",
   "execution_count": 6,
   "metadata": {},
   "outputs": [],
   "source": [
    "if not os.path.exists(\"./Grid_Search_CV\") :\n",
    "    os.makedirs(\"./Grid_Search_CV\")\n",
    "    os.makedirs(\"./Grid_Search_CV/GP\")\n",
    "    os.makedirs(\"./Grid_Search_CV/GN\")"
   ]
  },
  {
   "cell_type": "code",
   "execution_count": 7,
   "metadata": {},
   "outputs": [],
   "source": [
    "params_xgb = {\n",
    "    \"n_estimators\": [100, 1000],\n",
    "    \"gamma\": [0.5, 1, 2],\n",
    "    \"max_depth\": [5 , 6 , 7],\n",
    "    \"subsample\": [0.5, 0.7, 1],\n",
    "    \"colsample_bytree\": [0.5, 0.7, 1],\n",
    "    \"learning_rate\": [0.3 , 0.1]\n",
    "}\n",
    "\n",
    "def grid_search_export(path: str, smote: SMOTERounding, X: pd.DataFrame, y: pd.DataFrame):\n",
    "    skf = StratifiedKFold(n_splits=10, shuffle=True, random_state=0)\n",
    "    xgb = XGBClassifier(eval_metric=f1_score, verbosity=0,\n",
    "                        random_state=0, tree_method='gpu_hist', gpu_id=1)\n",
    "    pip = Pipeline((\n",
    "        (\"sam\", smote),\n",
    "        (\"clf\", xgb)\n",
    "    ))\n",
    "    gs = GridSearchCV(\n",
    "        pip, {\"clf__\" + key: value for key, value in params_xgb.items()}, scoring='f1', cv=skf, n_jobs=5)\n",
    "    gs.fit(X, y)\n",
    "    joblib.dump(gs, path)"
   ]
  },
  {
   "cell_type": "markdown",
   "metadata": {},
   "source": [
    "#### ปรับจูนพารามิเตอร์ของโมเดล GN (แต่ละโมเดลรันนานมาก แนะนำว่าควรแบ่งรันที่ละ 1-2 โมเดล)"
   ]
  },
  {
   "cell_type": "code",
   "execution_count": 8,
   "metadata": {},
   "outputs": [],
   "source": [
    "#COPY รัน 2,8\n",
    "# vitek_id = \"GN\"\n",
    "# ans_col_name = gn_ans_col_name if vitek_id == \"GN\" else gp_ans_col_name\n",
    "# smote = GN_SMOTE if vitek_id == \"GN\" else GP_SMOTE\n",
    "# for i in range(11):\n",
    "#     X_train, y_train = getData(vitek_id, i)\n",
    "#     ans_name = ans_col_name[i].replace(\"ans_\", \"\").replace(\"/\", \"_\")\n",
    "#     grid_search_export(f\"./Grid_Search_CV/{vitek_id}/{ans_name}.joblib\",\n",
    "#                        SMOTERounding(smote[i]), pd.get_dummies(X_train), y_train)"
   ]
  },
  {
   "cell_type": "code",
   "execution_count": 9,
   "metadata": {},
   "outputs": [
    {
     "data": {
      "application/vnd.jupyter.widget-view+json": {
       "model_id": "c511f02fd3f6441f97fe07951ee21acd",
       "version_major": 2,
       "version_minor": 0
      },
      "text/plain": [
       "tqdm:   0%|          | 0/11 [00:00<?, ?it/s]"
      ]
     },
     "metadata": {},
     "output_type": "display_data"
    }
   ],
   "source": [
    "from tqdm import tqdm_notebook as tqdm\n",
    "vitek_id = \"GN\"\n",
    "ans_col_name = gn_ans_col_name if vitek_id == \"GN\" else gp_ans_col_name\n",
    "smote = GN_SMOTE if vitek_id == \"GN\" else GP_SMOTE\n",
    "for i in tqdm(range(11), desc='tqdm'):\n",
    "    X_train, y_train = getData(vitek_id, i)\n",
    "    ans_name = ans_col_name[i].replace(\"ans_\", \"\").replace(\"/\", \"_\")\n",
    "    grid_search_export(f\"./Grid_Search_CV/{vitek_id}/{ans_name}.joblib\",\n",
    "                       SMOTERounding(smote[i]), pd.get_dummies(X_train), y_train)"
   ]
  },
  {
   "cell_type": "markdown",
   "metadata": {},
   "source": [
    "#### ปรับจูนพารามิเตอร์ของโมเดล GP"
   ]
  },
  {
   "cell_type": "code",
   "execution_count": 10,
   "metadata": {},
   "outputs": [
    {
     "data": {
      "application/vnd.jupyter.widget-view+json": {
       "model_id": "f6c8e22e236b42b8bd7048ea9308e0b3",
       "version_major": 2,
       "version_minor": 0
      },
      "text/plain": [
       "tnrange:   0%|          | 0/11 [00:00<?, ?it/s]"
      ]
     },
     "metadata": {},
     "output_type": "display_data"
    }
   ],
   "source": [
    "from tqdm import tnrange\n",
    "vitek_id = \"GP\"\n",
    "ans_col_name = gn_ans_col_name if vitek_id == \"GN\" else gp_ans_col_name\n",
    "smote = GN_SMOTE if vitek_id == \"GN\" else GP_SMOTE\n",
    "for i in tnrange(11, desc='tnrange'):\n",
    "    X_train, y_train = getData(vitek_id, i)\n",
    "    ans_name = ans_col_name[i].replace(\"ans_\", \"\").replace(\"/\", \"_\")\n",
    "    grid_search_export(f\"./Grid_Search_CV/{vitek_id}/{ans_name}.joblib\",\n",
    "                       SMOTERounding(smote[i]), pd.get_dummies(X_train), y_train)"
   ]
  },
  {
   "cell_type": "code",
   "execution_count": null,
   "metadata": {},
   "outputs": [],
   "source": []
  }
 ],
 "metadata": {
  "kernelspec": {
   "display_name": "Python 3 (ipykernel)",
   "language": "python",
   "name": "python3"
  },
  "language_info": {
   "codemirror_mode": {
    "name": "ipython",
    "version": 3
   },
   "file_extension": ".py",
   "mimetype": "text/x-python",
   "name": "python",
   "nbconvert_exporter": "python",
   "pygments_lexer": "ipython3",
   "version": "3.8.16"
  },
  "vscode": {
   "interpreter": {
    "hash": "b607f27b5c425f1dfa2b3cb827e4360136c5338da351f9c2081803bab96a159a"
   }
  }
 },
 "nbformat": 4,
 "nbformat_minor": 2
}
