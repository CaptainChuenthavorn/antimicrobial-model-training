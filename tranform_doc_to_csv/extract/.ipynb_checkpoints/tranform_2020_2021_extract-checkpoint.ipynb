{
 "cells": [
  {
   "cell_type": "code",
   "execution_count": 1,
   "metadata": {},
   "outputs": [],
   "source": [
    "# Override hash function\n",
    "\n",
    "import hashlib\n",
    "\n",
    "def hash(s : str) -> str :\n",
    "    m = hashlib.sha256()\n",
    "    m.update(s.encode('utf-8'))\n",
    "    return m.hexdigest()"
   ]
  },
  {
   "cell_type": "markdown",
   "metadata": {},
   "source": [
    "### Import Library"
   ]
  },
  {
   "cell_type": "code",
   "execution_count": null,
   "metadata": {},
   "outputs": [],
   "source": [
    "import docx\n",
    "from docx.table import Table\n",
    "from docx.document import Document\n",
    "from docx2python import docx2python\n",
    "import numpy as np\n",
    "import pandas as pd\n",
    "from IPython.display import display\n",
    "from glob import glob\n",
    "import re\n",
    "from typing import Dict , List"
   ]
  },
  {
   "cell_type": "code",
   "execution_count": null,
   "metadata": {},
   "outputs": [],
   "source": [
    "# Docx จาก lib to Dataframe\n",
    "def doc_table_to_df(table : Table) -> pd.DataFrame:\n",
    "    return pd.DataFrame([cell.text for cell in row.cells] for row in table.rows)"
   ]
  },
  {
   "cell_type": "code",
   "execution_count": null,
   "metadata": {},
   "outputs": [],
   "source": [
    "feature = [\n",
    "    \"hash_id\",\n",
    "    \"hn\",\n",
    "    \"sample_collection_date\",\n",
    "    \"date_of_submission\",\n",
    "    \"sex\",\n",
    "    \"species\",\n",
    "    \"submitted_sample\",\n",
    "    \"collect_method\",\n",
    "    \"vitek_id\",\n",
    "    \"bact_species\",\n",
    "    \"vet_read\",\n",
    "    \"vet_recommend\",\n",
    "    \"report_issued_date\",\n",
    "    \"filename\"\n",
    "]"
   ]
  },
  {
   "cell_type": "code",
   "execution_count": null,
   "metadata": {},
   "outputs": [],
   "source": [
    "#file 2020-2021\n",
    "filenames = glob(\"./data2020_2021/**/*.docx\")\n"
   ]
  },
  {
   "cell_type": "markdown",
   "metadata": {},
   "source": [
    "![doc](../img/docx_example.png)"
   ]
  },
  {
   "cell_type": "markdown",
   "metadata": {},
   "source": [
    "### Transform Third Format [2020 - Present]\n",
    "![doc](../img/third_format.png)"
   ]
  },
  {
   "cell_type": "code",
   "execution_count": null,
   "metadata": {},
   "outputs": [],
   "source": [
    "class TransformThirdFormat:\n",
    "    detail_para_keys = [\"Date of submission\", \"Date of sample collection\", \"Owner\", \"Patient\", \"Species\", \"Breed\",\n",
    "                        \"Sex\", \"Birth date\", \"Submitted sample\", \"Methods of collection\", \"Methods (ID/AST)\",\n",
    "                        \"Isolate No.\", \"identification\"\n",
    "                        ]\n",
    "\n",
    "    @staticmethod\n",
    "    def hn_check(paragraphs: str):\n",
    "        pos = paragraphs.find(\"Results of Antimicrobial Susceptibility Testing\")\n",
    "        if pos == -1 :\n",
    "            return np.nan\n",
    "        paragraphs = paragraphs[pos:].split('\\n')[1].strip()\n",
    "        hn = paragraphs.find(\"HN\")\n",
    "        clinic = paragraphs.find(\"Clinician\")\n",
    "        if hn >= 0 and clinic >= 0:\n",
    "            return paragraphs[hn + 2:clinic].strip()\n",
    "        elif hn >= 0:\n",
    "            return paragraphs[hn + 2:].split('\\n')[0].strip\n",
    "        elif clinic >= 0:\n",
    "            return paragraphs[:clinic].strip()\n",
    "        else :\n",
    "            return paragraphs\n",
    "\n",
    "    @staticmethod\n",
    "    def transform_first_paragraph(paragraphs: str) -> Dict:\n",
    "        d = {\"HN\": TransformThirdFormat.hn_check(paragraphs)}\n",
    "        check_keys = TransformThirdFormat.detail_para_keys[:]\n",
    "        findkey = False\n",
    "        key = None\n",
    "        for para in paragraphs.split(\"\\n\"):\n",
    "            if findkey:\n",
    "                _keys = check_keys[:]\n",
    "                for k in _keys:\n",
    "                    if k == para:\n",
    "                        findkey = False\n",
    "            if findkey:\n",
    "                d.update({key: para.strip()})\n",
    "                findkey = False\n",
    "            else:\n",
    "                _keys = check_keys[:]\n",
    "                for k in _keys:\n",
    "                    if k in para:\n",
    "                        key = k\n",
    "                        check_keys.remove(k)\n",
    "                        findkey = True\n",
    "\n",
    "        return d\n",
    "\n",
    "    @staticmethod\n",
    "    def vet_transform(paragraphs: str) -> Dict:\n",
    "        vet_detail = {}\n",
    "        position = paragraphs.rfind(\"ผู้ทำการอ่านผลและแนะนำ\")\n",
    "        if position == -1:\n",
    "            return vet_detail\n",
    "        vet = paragraphs[:position - 1].split(\"\\n\")[-1]\n",
    "        vet_detail[\"date\"] = paragraphs[position +\n",
    "                                        len(\"ผู้ทำการอ่านผลและแนะนำ\") + 1:].split(\"\\n\")[0].strip()\n",
    "        vet_detail[\"vet_read\"] = vet.split(\",\")[0].strip()\n",
    "        if len(vet.split(\",\")) == 1:\n",
    "            print(paragraphs)\n",
    "        else:\n",
    "            vet_detail[\"vet_recommend\"] = vet.split(\",\")[1].strip()\n",
    "        return vet_detail\n",
    "\n",
    "    @staticmethod\n",
    "    def read_paragraph(filename: str) -> Dict:\n",
    "        doc = re.sub(r'(\\n\\s*)+\\n+', '\\n', docx2python(filename).text)\n",
    "        first_para = TransformThirdFormat.transform_first_paragraph(doc)\n",
    "        vet_para = TransformThirdFormat.vet_transform(doc)\n",
    "        return {\n",
    "            \"hash_id\": hash(filename),\n",
    "            \"hn\": first_para.get(\"HN\", np.nan),\n",
    "            \"sample_collection_date\": first_para.get(\"Date of sample collection\", np.nan),\n",
    "            \"date_of_submission\": first_para.get(\"Date of submission\", np.nan),\n",
    "            \"sex\": first_para.get(\"Sex\", np.nan),\n",
    "            \"species\": first_para.get(\"Species\", np.nan),\n",
    "            \"submitted_sample\": first_para.get(\"Submitted sample\", np.nan),\n",
    "            \"collect_method\": first_para.get(\"Methods of collection\", np.nan),\n",
    "            \"vitek_id\": filename.split('\\\\')[-1].split('_')[-2],\n",
    "            \"bact_species\": first_para.get(\"identification\", np.nan),\n",
    "            \"vet_read\": vet_para.get(\"vet_read\", np.nan),\n",
    "            \"vet_recommend\": vet_para.get(\"vet_recommend\", np.nan),\n",
    "            \"report_issued_date\": vet_para.get(\"date\", np.nan),\n",
    "            \"filename\": filename\n",
    "        }"
   ]
  },
  {
   "cell_type": "markdown",
   "metadata": {},
   "source": [
    "### Text Scraper"
   ]
  },
  {
   "cell_type": "code",
   "execution_count": null,
   "metadata": {},
   "outputs": [],
   "source": [
    "df = pd.DataFrame(columns=feature)\n",
    "for filename in filenames:\n",
    "    if \"รายงานรับตัวอย่าง\" in filename or \"ระหว่างดำเนินการ\" in filename:\n",
    "        continue\n",
    "    df = df.append(TransformThirdFormat.read_paragraph(\n",
    "            filename), ignore_index=True)\n"
   ]
  },
  {
   "cell_type": "code",
   "execution_count": null,
   "metadata": {},
   "outputs": [],
   "source": [
    "df.to_csv(\"./Dataset2020-2021.csv\",index=False)\n",
    "df = pd.read_csv(\"./Dataset2020-2021.csv\")"
   ]
  },
  {
   "cell_type": "markdown",
   "metadata": {},
   "source": [
    "### Part 2"
   ]
  },
  {
   "cell_type": "code",
   "execution_count": null,
   "metadata": {},
   "outputs": [],
   "source": [
    "feature_part_2 = [\"hash_id\",\"Antimicrobials\",\"MIC\",\"S/I/R\"]\n",
    "\n",
    "df_2 = pd.DataFrame(columns=feature_part_2)\n",
    "for filename in filenames :\n",
    "    doc = docx.Document(filename)\n",
    "    for table in doc.tables:\n",
    "        data_table = doc_table_to_df(table)\n",
    "        if data_table[0][0] == \"Antimicrobials\":\n",
    "            if len(data_table.columns) != 3:\n",
    "                data_table = data_table.drop(columns=2,axis=1)\n",
    "                data_table = data_table.rename(columns={3 : 2})\n",
    "            hash_id = df.set_index('filename').loc[filename,\"hash_id\"]\n",
    "            for index, row in data_table.iterrows():\n",
    "                if row[0] != \"Antimicrobials\" and row[0] != \"\":\n",
    "                    df_2 = df_2.append({\n",
    "                        \"hash_id\" : hash_id,\n",
    "                        \"Antimicrobials\" : row[0],\n",
    "                        \"MIC\" : row[1],\n",
    "                        \"S/I/R\" : row[2]\n",
    "                    },ignore_index=True)"
   ]
  },
  {
   "cell_type": "code",
   "execution_count": null,
   "metadata": {},
   "outputs": [],
   "source": [
    "df_2.to_csv(\"./ResultAST2020-2021.csv\",index=False)"
   ]
  },
  {
   "cell_type": "markdown",
   "metadata": {},
   "source": [
    "### Part 3"
   ]
  },
  {
   "cell_type": "code",
   "execution_count": null,
   "metadata": {},
   "outputs": [],
   "source": [
    "df = pd.read_csv(\"./Dataset2020-2021.csv\")"
   ]
  },
  {
   "cell_type": "code",
   "execution_count": null,
   "metadata": {},
   "outputs": [],
   "source": [
    "feature_part_3 = [\"hash_id\",\"Answer_Antimicrobials\",\"Paragraph\",'filename']"
   ]
  },
  {
   "cell_type": "code",
   "execution_count": null,
   "metadata": {},
   "outputs": [],
   "source": [
    "def read_answer(filename : str) :\n",
    "    paragraphs =  re.sub(r'(\\n\\s*)+\\n+', '\\n',docx2python(filename).text)\n",
    "    li = []\n",
    "    for para in paragraphs.split('\\n'):\n",
    "        if \"--\\t\" in para and 'mg/kg' in para.replace(' ','').lower() :\n",
    "            for p in para.split():\n",
    "                if \"mg\" in p.strip():\n",
    "                    break\n",
    "                if p.strip()[0] in [chr(ord('A') + i) for i in range(26)] + [chr(ord('a') + i) for i in range(26)]:\n",
    "                    li.append((\"\".join([ch for ch in p.strip() if ch.isalpha()]) , para))\n",
    "    return li"
   ]
  },
  {
   "cell_type": "code",
   "execution_count": null,
   "metadata": {},
   "outputs": [],
   "source": [
    "def read_answer_2(filename : str) :\n",
    "    paragraphs =  re.sub(r'(\\n\\s*)+\\n+', '\\n',docx2python(filename).text)\n",
    "    li = []\n",
    "    for para in paragraphs.split('\\n'):\n",
    "        if \"--\\t\" in para and 'units/kg' in para.replace(' ','').lower() :\n",
    "            for p in para.split():\n",
    "                if \"units\" in p.strip():\n",
    "                    break\n",
    "                if p.strip()[0] in [chr(ord('A') + i) for i in range(26)] + [chr(ord('a') + i) for i in range(26)]:\n",
    "                    li.append((\"\".join([ch for ch in p.strip() if ch.isalpha()]) , para))\n",
    "    return li"
   ]
  },
  {
   "cell_type": "code",
   "execution_count": null,
   "metadata": {},
   "outputs": [],
   "source": [
    "df_4 = pd.DataFrame(columns=feature_part_3)\n",
    "for filename in filenames:\n",
    "    doc = docx.Document(filename)\n",
    "    if len(doc.tables) <= 1:\n",
    "        continue\n",
    "    for ans in read_answer_2(filename):\n",
    "        df_4 = df_4.append({\n",
    "            \"hash_id\" : df.set_index(\"filename\").loc[filename].hash_id,\n",
    "            \"Answer_Antimicrobials\" : ans[0],\n",
    "            \"Paragraph\" : ans[1],\n",
    "            \"filename\" : filename\n",
    "        },ignore_index=True)"
   ]
  },
  {
   "cell_type": "code",
   "execution_count": null,
   "metadata": {},
   "outputs": [],
   "source": [
    "df_4"
   ]
  },
  {
   "cell_type": "markdown",
   "metadata": {},
   "source": [
    "df 4 ไม่มียาที่ต้องการ (ไม่ใช้)"
   ]
  },
  {
   "cell_type": "code",
   "execution_count": null,
   "metadata": {},
   "outputs": [],
   "source": [
    "df_3 = df_3.drop(index=df_3[df_3.Answer_Antimicrobials == \"acid\"].index)\n",
    "df_3 = df_3.drop(index=df_3[df_3.Answer_Antimicrobials == \"amoxicillinclavulanic\"].index)\n",
    "df_3 = df_3.drop(index=df_3[df_3.Answer_Antimicrobials == \"mic\"].index)\n",
    "df_3 = df_3.drop(index=df_3[df_3.Answer_Antimicrobials == \"enrofloxacin\"].index)\n",
    "df_3 = df_3.drop(index=df_3[df_3.Answer_Antimicrobials == \"sulfamethoxazoletrimethoprim\"].index)"
   ]
  },
  {
   "cell_type": "code",
   "execution_count": null,
   "metadata": {},
   "outputs": [],
   "source": [
    "df_3 = pd.DataFrame(columns=feature_part_3)\n",
    "for filename in filenames:\n",
    "    doc = docx.Document(filename)\n",
    "    if len(doc.tables) <= 1:\n",
    "        continue\n",
    "    for ans in read_answer(filename):\n",
    "        df_3 = df_3.append({\n",
    "            \"hash_id\" : df.set_index(\"filename\").loc[filename].hash_id,\n",
    "            \"Answer_Antimicrobials\" : ans[0],\n",
    "            \"Paragraph\" : ans[1],\n",
    "            \"filename\" : filename\n",
    "        },ignore_index=True)"
   ]
  },
  {
   "cell_type": "code",
   "execution_count": null,
   "metadata": {},
   "outputs": [],
   "source": [
    "df_3"
   ]
  },
  {
   "cell_type": "code",
   "execution_count": null,
   "metadata": {},
   "outputs": [],
   "source": [
    "anti_2 = {'Amikacin' : 'amikacin',\n",
    " 'Amox' : 'amoxicillin/clavulanic acid',\n",
    " 'Azithromycin' : 'azithromycin',\n",
    " 'Cefalexin' : 'cefalexin',\n",
    " 'Cefazolin' : 'cefazolin',\n",
    " 'Cefixime' : 'cefixime',\n",
    " 'Cefovecin' : 'cefovecin',\n",
    " 'Ceftriaxone' : 'ceftriaxone',\n",
    " 'Cephalecxin' : 'cefalexin',\n",
    " 'Cephalexin' : 'cefalexin',\n",
    " 'Cephazolin' : 'cefazolin',\n",
    " 'Clindamycin' : 'clindamycin',\n",
    " 'Doxycycline' : 'doxycycline',\n",
    " 'Enrofloxacin' : 'enrofloxacin',\n",
    " 'Fluconazole' : 'fluconazole',\n",
    " 'Fosfomycin' : 'fosfomycin',\n",
    " 'Gentamicin' : 'gentamicin',\n",
    " 'Imipenem' : 'imipenem',\n",
    " 'Marbo' : 'marbofloxacin',\n",
    " 'Metronidazole' : 'metronidazole',\n",
    " 'Nitrofurantoin' : 'nitrofurantoin',\n",
    " 'Piperacillintazobactam' : 'piperacillin/tazobactam',\n",
    " 'Pradofloxacin' : 'pradofloxacin',\n",
    " 'Rifampi' : 'rifampicin',\n",
    " 'Rifampi' : 'rifampicin',\n",
    " 'Sulfamethoxazole' : 'trimethoprim/sulfamethoxazole',\n",
    " 'Sulfamethoxazoletrimethoprim' : 'trimethoprim/sulfamethoxazole',\n",
    " 'Tetracycline' : 'tetracycline',\n",
    " 'Vancomycin' : 'vancomycin',\n",
    " 'cefovecin' : 'cefovecin',\n",
    " 'cephalexin' : 'cefalexin',\n",
    " 'imipenem' : 'imipenem',\n",
    " 'marbofloxacin' : 'marbofloxacin',\n",
    " 'nitrofurantoin' : 'nitrofurantoin',\n",
    " 'sulfamethoxazoletrimethoprim' : 'trimethoprim/sulfamethoxazole' }"
   ]
  },
  {
   "cell_type": "code",
   "execution_count": null,
   "metadata": {},
   "outputs": [],
   "source": [
    "def anti_change(value : str, anti : Dict) -> str:\n",
    "    for key , val in anti.items():\n",
    "        if value.startswith(key):\n",
    "            return val\n",
    "    return value\n",
    "\n",
    "df_3.Answer_Antimicrobials = df_3.Answer_Antimicrobials.map(lambda x : anti_change(x,anti_2))\n"
   ]
  },
  {
   "cell_type": "code",
   "execution_count": null,
   "metadata": {},
   "outputs": [],
   "source": [
    "df_3.to_csv(\"Answer_with_paragraph2020-2021.csv\",index=False)"
   ]
  },
  {
   "cell_type": "code",
   "execution_count": null,
   "metadata": {},
   "outputs": [],
   "source": [
    "df_3[['hash_id','Answer_Antimicrobials']].drop_duplicates().to_csv(\"Answer2020-2021.csv\",index=False)"
   ]
  }
 ],
 "metadata": {
  "kernelspec": {
   "display_name": "Python 3 (ipykernel)",
   "language": "python",
   "name": "python3"
  },
  "language_info": {
   "codemirror_mode": {
    "name": "ipython",
    "version": 3
   },
   "file_extension": ".py",
   "mimetype": "text/x-python",
   "name": "python",
   "nbconvert_exporter": "python",
   "pygments_lexer": "ipython3",
   "version": "3.8.16"
  },
  "vscode": {
   "interpreter": {
    "hash": "81794d4967e6c3204c66dcd87b604927b115b27c00565d3d43f05ba2f3a2cb0d"
   }
  }
 },
 "nbformat": 4,
 "nbformat_minor": 2
}
