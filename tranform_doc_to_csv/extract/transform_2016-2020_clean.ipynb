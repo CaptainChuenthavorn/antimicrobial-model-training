{
 "cells": [
  {
   "cell_type": "code",
   "execution_count": 1,
   "metadata": {},
   "outputs": [],
   "source": [
    "import numpy as np\n",
    "import pandas as pd"
   ]
  },
  {
   "cell_type": "code",
   "execution_count": 42,
   "metadata": {},
   "outputs": [],
   "source": [
    "df_2 = pd.read_csv(\"./ResultAST2016-2020.csv\")"
   ]
  },
  {
   "cell_type": "code",
   "execution_count": 43,
   "metadata": {},
   "outputs": [],
   "source": [
    "df_2 = df_2.dropna(subset=[\"Antimicrobials\"])"
   ]
  },
  {
   "cell_type": "code",
   "execution_count": 44,
   "metadata": {},
   "outputs": [],
   "source": [
    "df_2.loc[df_2[(df_2[\"MIC\"] == \"NEG\") & (df_2[\"S/I/R\"] == \"\")].index,\"S/I/R\"] = \"-\""
   ]
  },
  {
   "cell_type": "code",
   "execution_count": 45,
   "metadata": {},
   "outputs": [],
   "source": [
    "# df_2 = df_2.drop(index=df_2[df_2[\"S/I/R\"] == \"\"].index)"
   ]
  },
  {
   "cell_type": "code",
   "execution_count": 46,
   "metadata": {},
   "outputs": [],
   "source": [
    "df_2[\"Antimicrobials\"] = df_2[\"Antimicrobials\"].str.replace(\"*\",\"\",regex=False)"
   ]
  },
  {
   "cell_type": "code",
   "execution_count": 47,
   "metadata": {},
   "outputs": [],
   "source": [
    "df_2[\"Antimicrobials\"] = df_2[\"Antimicrobials\"].str.lower()"
   ]
  },
  {
   "cell_type": "code",
   "execution_count": 48,
   "metadata": {},
   "outputs": [],
   "source": [
    "df_2[\"Antimicrobials\"] = df_2[\"Antimicrobials\"].str.strip()"
   ]
  },
  {
   "cell_type": "code",
   "execution_count": 49,
   "metadata": {},
   "outputs": [],
   "source": [
    "df_2.loc[ df_2[df_2[\"Antimicrobials\"] == \"amoxicillin/clavulanic\"].index, \"Antimicrobials\"] = \"amoxicillin/clavulanic acid\""
   ]
  },
  {
   "cell_type": "code",
   "execution_count": 50,
   "metadata": {},
   "outputs": [],
   "source": [
    "df_2.loc[ df_2[df_2[\"Antimicrobials\"] == \"amoxy/clav\"].index, \"Antimicrobials\"] = \"amoxicillin/clavulanic acid\""
   ]
  },
  {
   "cell_type": "code",
   "execution_count": 51,
   "metadata": {},
   "outputs": [],
   "source": [
    "df_2.loc[ df_2[df_2[\"Antimicrobials\"] == \"benzyl penicillin\"].index, \"Antimicrobials\"] = \"benzylpenicillin\""
   ]
  },
  {
   "cell_type": "code",
   "execution_count": 52,
   "metadata": {},
   "outputs": [],
   "source": [
    "df_2.loc[ df_2[df_2[\"Antimicrobials\"] == \"cefalexina\"].index, \"Antimicrobials\"] = \"cefalexin\""
   ]
  },
  {
   "cell_type": "code",
   "execution_count": 53,
   "metadata": {},
   "outputs": [],
   "source": [
    "df_2.loc[ df_2[df_2[\"Antimicrobials\"] == \"cefalexina\"].index, \"Antimicrobials\"] = \"cefalexin\""
   ]
  },
  {
   "cell_type": "code",
   "execution_count": 54,
   "metadata": {},
   "outputs": [],
   "source": [
    "df_2.loc[ df_2[df_2[\"Antimicrobials\"] == \"cefoxitin\"].index, \"Antimicrobials\"] = \"cefoxitin screen\""
   ]
  },
  {
   "cell_type": "code",
   "execution_count": 55,
   "metadata": {},
   "outputs": [],
   "source": [
    "df_2.loc[ df_2[df_2[\"Antimicrobials\"] == \"cefalothin\"].index, \"Antimicrobials\"] = \"cefalotin\""
   ]
  },
  {
   "cell_type": "code",
   "execution_count": 56,
   "metadata": {},
   "outputs": [],
   "source": [
    "df_2.loc[ df_2[df_2[\"Antimicrobials\"] == \"cephalothin\"].index, \"Antimicrobials\"] = \"cefalotin\""
   ]
  },
  {
   "cell_type": "code",
   "execution_count": 57,
   "metadata": {},
   "outputs": [],
   "source": [
    "df_2.loc[ df_2[df_2[\"Antimicrobials\"] == \"cephalexin\"].index, \"Antimicrobials\"] = \"cefalexin\""
   ]
  },
  {
   "cell_type": "code",
   "execution_count": 58,
   "metadata": {},
   "outputs": [],
   "source": [
    "df_2.loc[ df_2[df_2[\"Antimicrobials\"] == \"inducible clindamycin\"].index, \"Antimicrobials\"] = \"inducible clindamycin resistance\""
   ]
  },
  {
   "cell_type": "code",
   "execution_count": 59,
   "metadata": {},
   "outputs": [],
   "source": [
    "df_2.loc[ df_2[df_2[\"Antimicrobials\"] == \"minocyclilne\"].index, \"Antimicrobials\"] = \"minocycline\""
   ]
  },
  {
   "cell_type": "code",
   "execution_count": 60,
   "metadata": {},
   "outputs": [],
   "source": [
    "df_2.loc[ df_2[df_2[\"Antimicrobials\"] == \"nitofurantoin\"].index, \"Antimicrobials\"] = \"nitrofurantoin\""
   ]
  },
  {
   "cell_type": "code",
   "execution_count": 61,
   "metadata": {},
   "outputs": [],
   "source": [
    "df_2.loc[ df_2[df_2[\"Antimicrobials\"] == \"polymixin b\"].index, \"Antimicrobials\"] = \"polymyxin b\""
   ]
  },
  {
   "cell_type": "code",
   "execution_count": 62,
   "metadata": {},
   "outputs": [],
   "source": [
    "df_2.loc[ df_2[df_2[\"Antimicrobials\"] == \"rifampin\"].index, \"Antimicrobials\"] = \"rifampicin\""
   ]
  },
  {
   "cell_type": "code",
   "execution_count": 63,
   "metadata": {},
   "outputs": [],
   "source": [
    "df_2.loc[ df_2[df_2[\"Antimicrobials\"] == \"sulfamethoxazole/trimethoprim\"].index, \"Antimicrobials\"] = \"trimethoprim/sulfamethoxazole\""
   ]
  },
  {
   "cell_type": "code",
   "execution_count": 64,
   "metadata": {},
   "outputs": [],
   "source": [
    "df_2.loc[ df_2[df_2[\"Antimicrobials\"] == \"tetracyclin\"].index, \"Antimicrobials\"] = \"tetracycline\""
   ]
  },
  {
   "cell_type": "code",
   "execution_count": 65,
   "metadata": {},
   "outputs": [],
   "source": [
    "df_2.loc[ df_2[df_2[\"Antimicrobials\"] == \"senrofloxacin\"].index, \"Antimicrobials\"] = \"enrofloxacin\""
   ]
  },
  {
   "cell_type": "code",
   "execution_count": null,
   "metadata": {},
   "outputs": [],
   "source": [
    "df_2.Antimicrobials.value_counts()"
   ]
  },
  {
   "cell_type": "code",
   "execution_count": 68,
   "metadata": {},
   "outputs": [],
   "source": [
    "df_2.MIC = df_2.MIC.str.strip()"
   ]
  },
  {
   "cell_type": "code",
   "execution_count": 69,
   "metadata": {},
   "outputs": [],
   "source": [
    "df_2.MIC = df_2.MIC.str.replace('*','',regex=False)"
   ]
  },
  {
   "cell_type": "code",
   "execution_count": null,
   "metadata": {},
   "outputs": [],
   "source": [
    "df_2.MIC.unique()"
   ]
  },
  {
   "cell_type": "code",
   "execution_count": 71,
   "metadata": {},
   "outputs": [],
   "source": [
    "df_2[\"S/I/R\"] = df_2[\"S/I/R\"].str.strip()"
   ]
  },
  {
   "cell_type": "code",
   "execution_count": 72,
   "metadata": {},
   "outputs": [],
   "source": [
    "df_2[\"S/I/R\"] = df_2[\"S/I/R\"].str.replace('*','',regex=False)"
   ]
  },
  {
   "cell_type": "code",
   "execution_count": null,
   "metadata": {},
   "outputs": [],
   "source": [
    "df_2[\"S/I/R\"].unique()"
   ]
  },
  {
   "cell_type": "code",
   "execution_count": 74,
   "metadata": {},
   "outputs": [],
   "source": [
    "# df_2 = df_2.drop(index=df_2[(df_2[\"S/I/R\"].isna()) | (df_2[\"S/I/R\"] == 'NA') | (df_2[\"S/I/R\"] == 'MA') | (df_2[\"S/I/R\"] == 'TRM') | (df_2[\"S/I/R\"] == '')].index)"
   ]
  },
  {
   "cell_type": "code",
   "execution_count": 75,
   "metadata": {},
   "outputs": [],
   "source": [
    "df_2[\"S/I/R\"] = df_2[\"S/I/R\"].str.upper()"
   ]
  },
  {
   "cell_type": "code",
   "execution_count": 76,
   "metadata": {},
   "outputs": [],
   "source": [
    "df_2.loc[ df_2[df_2[\"S/I/R\"] == \"NEG\"].index, \"S/I/R\"] = \"-\"\n",
    "df_2.loc[ df_2[df_2[\"S/I/R\"] == \"POS\"].index, \"S/I/R\"] = \"+\"\n"
   ]
  },
  {
   "cell_type": "code",
   "execution_count": null,
   "metadata": {},
   "outputs": [],
   "source": [
    "df_2[\"MIC\"].unique()"
   ]
  },
  {
   "cell_type": "code",
   "execution_count": null,
   "metadata": {},
   "outputs": [],
   "source": [
    "df_2[\"S/I/R\"].value_counts()"
   ]
  },
  {
   "cell_type": "code",
   "execution_count": 95,
   "metadata": {},
   "outputs": [],
   "source": [
    "df_2.to_csv(\"ResultAST2016-2020_Cleaned.csv\",index=False)"
   ]
  },
  {
   "cell_type": "code",
   "execution_count": 2,
   "metadata": {},
   "outputs": [],
   "source": [
    "df = pd.read_csv(\"./Dataset2016-2020.csv\")"
   ]
  },
  {
   "cell_type": "markdown",
   "metadata": {},
   "source": [
    "# Part 2"
   ]
  },
  {
   "cell_type": "code",
   "execution_count": 2,
   "metadata": {},
   "outputs": [],
   "source": [
    "df_2 = pd.read_csv(\"./ResultAST2016-2020_Cleaned.csv\")\n"
   ]
  },
  {
   "cell_type": "code",
   "execution_count": 3,
   "metadata": {},
   "outputs": [],
   "source": [
    "df_2.loc[df_2[df_2.MIC == \"0>=8\"].index,\"MIC\"] = '>=8'"
   ]
  },
  {
   "cell_type": "code",
   "execution_count": 4,
   "metadata": {},
   "outputs": [],
   "source": [
    "df_2.loc[df_2[df_2.MIC == \"<-0.5\"].index,\"MIC\"] = '<=0.5'"
   ]
  },
  {
   "cell_type": "code",
   "execution_count": 5,
   "metadata": {},
   "outputs": [],
   "source": [
    "df_2.loc[df_2[df_2.MIC == \"<-0.25\"].index,\"MIC\"] = '<=0.25'"
   ]
  },
  {
   "cell_type": "code",
   "execution_count": 6,
   "metadata": {},
   "outputs": [],
   "source": [
    "df_2.MIC = df_2.MIC.str.upper()"
   ]
  },
  {
   "cell_type": "code",
   "execution_count": 7,
   "metadata": {},
   "outputs": [],
   "source": [
    "df_2.loc[df_2[df_2.MIC == \"<=C0.5\"].index,\"MIC\"] = '<=0.5'"
   ]
  },
  {
   "cell_type": "code",
   "execution_count": 8,
   "metadata": {},
   "outputs": [],
   "source": [
    "df_2.loc[df_2[df_2.MIC == \"=>320\"].index,\"MIC\"] = '>=320'"
   ]
  },
  {
   "cell_type": "code",
   "execution_count": 9,
   "metadata": {},
   "outputs": [],
   "source": [
    "df_2.loc[df_2[df_2.MIC == \"R\"].index,\"MIC\"] = np.nan"
   ]
  },
  {
   "cell_type": "code",
   "execution_count": 30,
   "metadata": {},
   "outputs": [],
   "source": [
    "df_2.loc[df_2[df_2.MIC == \"<=0.S\"].index,\"MIC\"] = '<=0.5'"
   ]
  },
  {
   "cell_type": "code",
   "execution_count": null,
   "metadata": {},
   "outputs": [],
   "source": [
    "df_2.MIC.unique()"
   ]
  },
  {
   "cell_type": "code",
   "execution_count": 25,
   "metadata": {},
   "outputs": [],
   "source": [
    "def split_sign(mic) :\n",
    "    if mic is np.nan or mic == \"NEG\" or mic == \"POS\":\n",
    "        return mic\n",
    "    else :\n",
    "        s = \"\".join([ch for ch in mic if ch in '<=>'])\n",
    "        if s == '>' or s == '<':\n",
    "            s += '='\n",
    "        return '=' if s == \"\" else s\n",
    "\n"
   ]
  },
  {
   "cell_type": "code",
   "execution_count": 28,
   "metadata": {},
   "outputs": [],
   "source": [
    "def split_digit(mic) :\n",
    "    if mic is np.nan or mic == \"NEG\" or mic == \"POS\":\n",
    "        return mic\n",
    "    else :\n",
    "        s = \"\".join([ch for ch in mic if ch.isdigit() or ch == '.'])\n",
    "        if s == '' :\n",
    "            return np.nan\n",
    "        return s"
   ]
  },
  {
   "cell_type": "code",
   "execution_count": null,
   "metadata": {},
   "outputs": [],
   "source": [
    "df_2.MIC.map(split_sign).value_counts()"
   ]
  },
  {
   "cell_type": "code",
   "execution_count": 34,
   "metadata": {},
   "outputs": [],
   "source": [
    "df_2[\"MIC_SIGN\"] = df_2.MIC.map(split_sign) \n",
    "df_2[\"MIC_NUMBER\"] = df_2.MIC.map(split_digit) "
   ]
  },
  {
   "cell_type": "code",
   "execution_count": 38,
   "metadata": {},
   "outputs": [],
   "source": [
    "df_2.to_csv(\"ResultAST2016-2020_Cleaned.csv\",index=False)"
   ]
  },
  {
   "cell_type": "code",
   "execution_count": 3,
   "metadata": {},
   "outputs": [],
   "source": [
    "df_2 = pd.read_csv(\"ResultAST2016-2020_Cleaned.csv\")"
   ]
  },
  {
   "cell_type": "code",
   "execution_count": 4,
   "metadata": {},
   "outputs": [],
   "source": [
    "df_2_pivot = df_2.pivot(index='hash_id',columns='Antimicrobials',values=[\"S/I/R\",\"MIC_SIGN\",\"MIC_NUMBER\"])"
   ]
  },
  {
   "cell_type": "code",
   "execution_count": 6,
   "metadata": {},
   "outputs": [],
   "source": [
    "df_2_pivot.columns =['_'.join(col) for col in df_2_pivot.columns]"
   ]
  },
  {
   "cell_type": "code",
   "execution_count": 6,
   "metadata": {},
   "outputs": [],
   "source": [
    "df = pd.read_csv(\"Dataset2016-2020_complete_v1.csv\")"
   ]
  },
  {
   "cell_type": "code",
   "execution_count": 9,
   "metadata": {},
   "outputs": [],
   "source": [
    "newdf = df.merge(df_2_pivot,left_on='hash_id',right_on='hash_id',how='left')"
   ]
  },
  {
   "cell_type": "code",
   "execution_count": 10,
   "metadata": {},
   "outputs": [],
   "source": [
    "newdf.to_csv(\"Dataset2016-2020_complete_v2.csv\",index=False,encoding='utf-8')"
   ]
  }
 ],
 "metadata": {
  "kernelspec": {
   "display_name": "Python 3 (ipykernel)",
   "language": "python",
   "name": "python3"
  },
  "language_info": {
   "codemirror_mode": {
    "name": "ipython",
    "version": 3
   },
   "file_extension": ".py",
   "mimetype": "text/x-python",
   "name": "python",
   "nbconvert_exporter": "python",
   "pygments_lexer": "ipython3",
   "version": "3.8.16"
  },
  "vscode": {
   "interpreter": {
    "hash": "81794d4967e6c3204c66dcd87b604927b115b27c00565d3d43f05ba2f3a2cb0d"
   }
  }
 },
 "nbformat": 4,
 "nbformat_minor": 2
}
