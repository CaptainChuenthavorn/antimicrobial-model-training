{
 "cells": [
  {
   "cell_type": "code",
   "execution_count": null,
   "metadata": {},
   "outputs": [],
   "source": [
    "import numpy as np\n",
    "import pandas as pd"
   ]
  },
  {
   "cell_type": "markdown",
   "metadata": {},
   "source": [
    "### Data Cleansing (Part 1)"
   ]
  },
  {
   "cell_type": "code",
   "execution_count": null,
   "metadata": {},
   "outputs": [],
   "source": [
    "df = pd.read_csv('./Dataset2020-2021.csv')"
   ]
  },
  {
   "cell_type": "markdown",
   "metadata": {},
   "source": [
    "### Clean vitek_id"
   ]
  },
  {
   "cell_type": "code",
   "execution_count": null,
   "metadata": {},
   "outputs": [],
   "source": [
    "df.loc[df[df.vitek_id == 'Strep'].index, 'vitek_id'] = 'GP'"
   ]
  },
  {
   "cell_type": "code",
   "execution_count": null,
   "metadata": {},
   "outputs": [],
   "source": [
    "for i, v in df[(df.vitek_id != 'GN') & (df.vitek_id != 'GP')].filename.items():\n",
    "    vitek = v.split('_')\n",
    "    if vitek[4] == 'GP' or vitek[4] == 'GN':\n",
    "        df.loc[i,'vitek_id'] = vitek[4]\n",
    "    elif vitek[3] == 'GP' or vitek[3] == 'GN':\n",
    "        df.loc[i,'vitek_id'] = vitek[3]\n",
    "    else:\n",
    "        print(v)"
   ]
  },
  {
   "cell_type": "markdown",
   "metadata": {},
   "source": [
    "### Clean Sex"
   ]
  },
  {
   "cell_type": "code",
   "execution_count": null,
   "metadata": {},
   "outputs": [],
   "source": [
    "df.sex = df.sex.str.lower()\n",
    "df.loc[df[df.sex == 'unk'].index, 'sex'] = 'unknown'\n",
    "df.loc[df[df.sex == 'cat'].index, 'sex'] = 'unknown'"
   ]
  },
  {
   "cell_type": "markdown",
   "metadata": {},
   "source": [
    "### Clean species"
   ]
  },
  {
   "cell_type": "code",
   "execution_count": null,
   "metadata": {},
   "outputs": [],
   "source": [
    "df.species = df.species.str.lower()\n",
    "df.species = df.species.str.strip()\n",
    "df.loc[df[(df.species != 'cat') & (df.species != 'dog')].index, 'species'] = 'other'"
   ]
  },
  {
   "cell_type": "markdown",
   "metadata": {},
   "source": [
    "### จัด format ของ report_issued_date"
   ]
  },
  {
   "cell_type": "code",
   "execution_count": null,
   "metadata": {},
   "outputs": [],
   "source": [
    "month_dict = {'มกราคม':'1', 'มกราาคม':'1', 'กุมภาพันธ์':'2', 'มีนาคม':'3', 'เมษายน':'4', 'พฤษภาคม':'5', 'มิถุนายน':'6', 'กรกฎาคม':'7', 'สิงหาคม':'8', 'กันยายน':\"9\", 'ตุลาคม':\"10\", 'พฤศจิกายน':\"11\", 'ธันวาคม':\"12\"}\n",
    "for i, v in df.report_issued_date.items():\n",
    "    # print(f\"Index : {i}, Value : {v}\")\n",
    "    date = str(v).split()\n",
    "    if date[0] != 'nan' and len(date) == 4:\n",
    "        # print(df.loc[i, 'report_issued_date'])\n",
    "        df.loc[i, 'report_issued_date'] = date[0] + '/' + month_dict[date[1]] + '/' + str(int(date[-1].replace('พ.ศ.', ''))-543)\n",
    "    else:\n",
    "        print(v)"
   ]
  },
  {
   "cell_type": "markdown",
   "metadata": {},
   "source": [
    "### จัด format ของ date_of_submission"
   ]
  },
  {
   "cell_type": "code",
   "execution_count": null,
   "metadata": {},
   "outputs": [],
   "source": [
    "month_eng_dict = {'Jan' : '1', 'Feb' : '2', 'Mar' : '3', 'March' : '3', 'Apr' : '4', 'May' : '5', 'June' : '6', 'Jun' : '6', 'July' : '7', 'Jul' : '7', 'Aug' : '8', 'Sep':'9', 'Oct':'10', 'Nov' : '11', 'Dec':'12'}\n",
    "for i, v in df.date_of_submission.items():\n",
    "    date = str(v).split()\n",
    "    if len(date) == 3:\n",
    "        df.loc[i, 'date_of_submission'] = f\"{date[0]}/{month_eng_dict[date[1]]}/{date[2]}\"\n",
    "    elif len(date) == 2:\n",
    "         df.loc[i, 'date_of_submission'] = f\"1/{month_eng_dict[date[0]]}/{date[1]}\"\n",
    "    else:\n",
    "        print(v)"
   ]
  },
  {
   "cell_type": "markdown",
   "metadata": {},
   "source": [
    "### จัด format ของ sample_collection_date"
   ]
  },
  {
   "cell_type": "code",
   "execution_count": null,
   "metadata": {},
   "outputs": [],
   "source": [
    "month_eng_dict = {'Jan' : '1', 'Feb' : '2', 'Mar' : '3', 'March' : '3', 'Apr' : '4', 'May' : '5', 'June' : '6', 'Jun' : '6', 'July' : '7', 'Jul' : '7', 'Aug' : '8', 'Sep':'9', 'Oct':'10', 'Nov' : '11', 'Dec':'12'}\n",
    "for i, v in df.sample_collection_date.items():\n",
    "    date = str(v).split()\n",
    "    if len(date) == 3:\n",
    "        df.loc[i, 'sample_collection_date'] = f\"{date[0]}/{month_eng_dict[date[1]]}/{date[2]}\"\n",
    "    elif len(date) == 2:\n",
    "         df.loc[i, 'sample_collection_date'] = f\"1/{month_eng_dict[date[0]]}/{date[1]}\"\n",
    "    else:\n",
    "        print(v)"
   ]
  },
  {
   "cell_type": "markdown",
   "metadata": {},
   "source": [
    "### แปลงเป็น Datetime"
   ]
  },
  {
   "cell_type": "code",
   "execution_count": null,
   "metadata": {},
   "outputs": [],
   "source": [
    "df.report_issued_date = pd.to_datetime(df.report_issued_date, format='%d/%m/%Y')\n",
    "df.sample_collection_date = pd.to_datetime(df.sample_collection_date, format='%d/%m/%Y')\n",
    "df.date_of_submission = pd.to_datetime(df.date_of_submission, format='%d/%m/%Y')"
   ]
  },
  {
   "cell_type": "markdown",
   "metadata": {},
   "source": [
    "### Clean bact_species"
   ]
  },
  {
   "cell_type": "code",
   "execution_count": null,
   "metadata": {},
   "outputs": [],
   "source": [
    "df.bact_species = df.bact_species.str.lower()\n",
    "df.loc[df[df.bact_species.str.contains('no bacterial growth')].index, 'bact_species'] = 'no bacterial growth'\n",
    "df.loc[df[df.bact_species.str.contains('yeast')].index, 'bact_species'] = 'yeast'"
   ]
  },
  {
   "cell_type": "code",
   "execution_count": null,
   "metadata": {},
   "outputs": [],
   "source": [
    "for i, v in df.loc[df[df.bact_species.str.contains('low discrimination')].index, 'bact_species'].items():\n",
    "    bactName = v.replace('low discrimination', \"\").replace('(', '').replace('between', '').replace('among', '').strip()\n",
    "    if \"กับ\" in bactName:\n",
    "        bactName = bactName[:bactName.index('กับ')].strip()\n",
    "        df.loc[i, 'bact_species'] = bactName\n",
    "    if \"/\" in bactName:\n",
    "        bactName = bactName[:bactName.index('/')].strip()\n",
    "        df.loc[i, 'bact_species'] = bactName\n",
    "    if \" and \" in bactName:\n",
    "        bactName = bactName[:bactName.index(' and ')].strip()\n",
    "        df.loc[i, 'bact_species'] = bactName\n",
    "    if \" or \" in bactName:\n",
    "        bactName = bactName[:bactName.index(' or ')].strip()\n",
    "        df.loc[i, 'bact_species'] = bactName\n",
    "    if \",\" in bactName:\n",
    "        bactName = bactName[:bactName.index(',')].strip()\n",
    "        df.loc[i, 'bact_species'] = bactName\n",
    "    if bactName == '':\n",
    "        df.loc[i, 'bact_species'] = 'unknown'\n",
    "    if bactName == '6.3x106 cfu':\n",
    "        df.loc[i, 'bact_species'] = 'unknown'"
   ]
  },
  {
   "cell_type": "code",
   "execution_count": null,
   "metadata": {},
   "outputs": [],
   "source": [
    "df.loc[df[df.bact_species.str.contains('non or low reactive biopattern')].index, 'bact_species'] = 'unknown'\n",
    "df.loc[df[df.bact_species.str.contains('unidentified')].index, 'bact_species'] = 'unknown'"
   ]
  },
  {
   "cell_type": "code",
   "execution_count": null,
   "metadata": {},
   "outputs": [],
   "source": [
    "for i, v in df.bact_species.items():\n",
    "    bactName = v\n",
    "    if \"(\" in bactName:\n",
    "        bactName = v[:v.index('(')].strip()\n",
    "        df.loc[i, 'bact_species'] = bactName\n",
    "    if \"/\" in bactName:\n",
    "        bactName = v[:v.index('/')].strip()\n",
    "        df.loc[i, 'bact_species'] = bactName\n",
    "    if \" or \" in bactName:\n",
    "        bactName = v[:v.index(' or ')].strip()\n",
    "        df.loc[i, 'bact_species'] = bactName\n",
    "    if \"หรือ\" in bactName:\n",
    "        bactName = v[:v.index('หรือ')].strip()\n",
    "        df.loc[i, 'bact_species'] = bactName\n",
    "    if \"กับ\" in bactName:\n",
    "        bactName = v[:v.index('กับ')].strip()\n",
    "        df.loc[i, 'bact_species'] = bactName\n",
    "    if \",\" in bactName:\n",
    "        bactName = v[:v.index(',')].strip()\n",
    "        df.loc[i, 'bact_species'] = bactName\n",
    "    if \" by \" in bactName:\n",
    "        bactName = v[:v.index(' by ')].strip()\n",
    "        df.loc[i, 'bact_species'] = bactName\n",
    "    if \".\" in bactName:\n",
    "        bactName = v.replace('.', '').strip()\n",
    "        df.loc[i, 'bact_species'] = bactName"
   ]
  },
  {
   "cell_type": "markdown",
   "metadata": {},
   "source": [
    "### เพิ่มคอลัมน์ bacteria_genus"
   ]
  },
  {
   "cell_type": "code",
   "execution_count": null,
   "metadata": {},
   "outputs": [],
   "source": [
    "df['bact_genus'] = np.nan"
   ]
  },
  {
   "cell_type": "code",
   "execution_count": null,
   "metadata": {},
   "outputs": [],
   "source": [
    "df.loc[df[df.bact_species.str.contains('staphylococci')].index, 'bact_genus'] = 'staphylococci'\n",
    "df.loc[df[df.bact_species.str.contains('staphylococcus')].index, 'bact_genus'] = 'staphylococcus'"
   ]
  },
  {
   "cell_type": "code",
   "execution_count": null,
   "metadata": {},
   "outputs": [],
   "source": [
    "ng_list = ['no bacterial and fungal growth', 'no bacterial growth', 'no fungal growth', 'no microbial growth']\n",
    "for i, v in df.bact_genus.items():\n",
    "    if str(v) == 'nan':\n",
    "        if df.loc[i, 'bact_species'] not in ng_list :\n",
    "            df.loc[i, 'bact_genus'] = df.loc[i, 'bact_species'].split()[0]\n",
    "        else:\n",
    "            df.loc[i, 'bact_genus'] = 'no growth'"
   ]
  },
  {
   "cell_type": "code",
   "execution_count": null,
   "metadata": {},
   "outputs": [],
   "source": [
    "df.loc[df[df.bact_genus == 'gram'].index, 'bact_genus'] = 'unknown'"
   ]
  },
  {
   "cell_type": "markdown",
   "metadata": {},
   "source": [
    "### Clean submitted_sample"
   ]
  },
  {
   "cell_type": "code",
   "execution_count": null,
   "metadata": {},
   "outputs": [],
   "source": [
    "df['submitted_sample'] = df['submitted_sample'].str.lower()\n",
    "df['submitted_sample'] = df['submitted_sample'].str.strip()\n",
    "df['submitted_sample'].fillna('unknown', inplace=True)"
   ]
  },
  {
   "cell_type": "code",
   "execution_count": null,
   "metadata": {},
   "outputs": [],
   "source": [
    "# ตัดวงเล็บออก\n",
    "for i, v in df['submitted_sample'].items():\n",
    "    sample = str(v)\n",
    "    if \"(\" in sample:\n",
    "        sample = v[:v.index('(')].strip()\n",
    "        df.loc[i, 'submitted_sample'] = sample"
   ]
  },
  {
   "cell_type": "markdown",
   "metadata": {},
   "source": [
    "### Clean collect_method"
   ]
  },
  {
   "cell_type": "code",
   "execution_count": null,
   "metadata": {},
   "outputs": [],
   "source": [
    "df['collect_method'].fillna('unknown', inplace=True)\n",
    "df['collect_method'] = df['collect_method'].str.lower()\n",
    "df['collect_method'] = df['collect_method'].str.strip()"
   ]
  },
  {
   "cell_type": "code",
   "execution_count": null,
   "metadata": {},
   "outputs": [],
   "source": [
    "df.loc[df[df['collect_method'] == '-'].index, 'collect_method'] = 'unknown'\n",
    "df.loc[df[df['collect_method'] == 'unk'].index, 'collect_method'] = 'unknown'"
   ]
  },
  {
   "cell_type": "markdown",
   "metadata": {},
   "source": [
    "### Export CSV"
   ]
  },
  {
   "cell_type": "code",
   "execution_count": null,
   "metadata": {},
   "outputs": [],
   "source": [
    "df.to_csv('Dataset2020-2021_clean.csv', index=False)"
   ]
  }
 ],
 "metadata": {
  "kernelspec": {
   "display_name": "Python 3 (ipykernel)",
   "language": "python",
   "name": "python3"
  },
  "language_info": {
   "codemirror_mode": {
    "name": "ipython",
    "version": 3
   },
   "file_extension": ".py",
   "mimetype": "text/x-python",
   "name": "python",
   "nbconvert_exporter": "python",
   "pygments_lexer": "ipython3",
   "version": "3.8.16"
  },
  "vscode": {
   "interpreter": {
    "hash": "b1321131bdd09d82f0979630ddb6c89f1498eb72af8f767e2bb7552f05a3290c"
   }
  }
 },
 "nbformat": 4,
 "nbformat_minor": 2
}
