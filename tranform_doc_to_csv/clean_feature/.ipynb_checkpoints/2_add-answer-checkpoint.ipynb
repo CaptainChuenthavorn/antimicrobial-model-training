{
 "cells": [
  {
   "cell_type": "code",
   "execution_count": null,
   "metadata": {},
   "outputs": [],
   "source": [
    "import numpy as np\n",
    "import pandas as pd"
   ]
  },
  {
   "cell_type": "markdown",
   "metadata": {},
   "source": [
    "### แปลง Answer เป็น True / False (ไฟล์ Part 3)"
   ]
  },
  {
   "cell_type": "code",
   "execution_count": null,
   "metadata": {},
   "outputs": [],
   "source": [
    "df = pd.read_csv('./Dataset2020-2021_clean.csv') # import dataset ที่ clean แล้ว (ไม่รวมส่วนคำตอบ)\n",
    "df_ans = pd.read_csv('./Answer2020-2021.csv')    # import ไฟล์คำตอบ"
   ]
  },
  {
   "cell_type": "code",
   "execution_count": null,
   "metadata": {},
   "outputs": [],
   "source": [
    "uniq_ans = sorted(df_ans['Answer_Antimicrobials'].unique())"
   ]
  },
  {
   "cell_type": "code",
   "execution_count": null,
   "metadata": {},
   "outputs": [],
   "source": [
    "for value in uniq_ans:\n",
    "    df[value] = np.nan"
   ]
  },
  {
   "cell_type": "code",
   "execution_count": null,
   "metadata": {},
   "outputs": [],
   "source": [
    "for index, value in df_ans['Answer_Antimicrobials'].items():\n",
    "    if value in uniq_ans:\n",
    "        df.loc[df[df['hash_id'] == df_ans.loc[index, 'hash_id']].index, value] = True\n",
    "    else:\n",
    "        print(index, value)"
   ]
  },
  {
   "cell_type": "code",
   "execution_count": null,
   "metadata": {},
   "outputs": [],
   "source": [
    "for i in uniq_ans:\n",
    "    df[i].fillna(False, inplace=True)"
   ]
  },
  {
   "cell_type": "code",
   "execution_count": null,
   "metadata": {},
   "outputs": [],
   "source": [
    "df_gn = df[df.vitek_id == 'GN']\n",
    "df_gp = df[df.vitek_id == 'GP']\n",
    "df_complete = df_gn.append(df_gp)"
   ]
  },
  {
   "cell_type": "markdown",
   "metadata": {},
   "source": [
    "### Export CSV"
   ]
  },
  {
   "cell_type": "code",
   "execution_count": null,
   "metadata": {},
   "outputs": [],
   "source": [
    "df_complete.to_csv('Dataset2020-2021_complete_v1', index=False)"
   ]
  }
 ],
 "metadata": {
  "kernelspec": {
   "display_name": "Python 3 (ipykernel)",
   "language": "python",
   "name": "python3"
  },
  "language_info": {
   "codemirror_mode": {
    "name": "ipython",
    "version": 3
   },
   "file_extension": ".py",
   "mimetype": "text/x-python",
   "name": "python",
   "nbconvert_exporter": "python",
   "pygments_lexer": "ipython3",
   "version": "3.8.16"
  },
  "vscode": {
   "interpreter": {
    "hash": "b1321131bdd09d82f0979630ddb6c89f1498eb72af8f767e2bb7552f05a3290c"
   }
  }
 },
 "nbformat": 4,
 "nbformat_minor": 2
}
