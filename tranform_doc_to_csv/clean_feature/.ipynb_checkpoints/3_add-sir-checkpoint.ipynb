{
 "cells": [
  {
   "cell_type": "code",
   "execution_count": null,
   "metadata": {},
   "outputs": [],
   "source": [
    "import numpy as np\n",
    "import pandas as pd"
   ]
  },
  {
   "cell_type": "markdown",
   "metadata": {},
   "source": [
    "### แปลง SIR / MIC เป็น columns (ไฟล์ Part 2)"
   ]
  },
  {
   "cell_type": "code",
   "execution_count": null,
   "metadata": {},
   "outputs": [],
   "source": [
    "df = pd.read_csv('./Dataset2020-2021_complete.csv')"
   ]
  },
  {
   "cell_type": "code",
   "execution_count": null,
   "metadata": {},
   "outputs": [],
   "source": [
    "df_sir = pd.read_csv('./ResultAST2020-2021_Cleaned.csv') # import ไฟล์ sir"
   ]
  },
  {
   "cell_type": "code",
   "execution_count": null,
   "metadata": {},
   "outputs": [],
   "source": [
    "uniq_sir = sorted(df_sir['Antimicrobials'].unique())"
   ]
  },
  {
   "cell_type": "code",
   "execution_count": null,
   "metadata": {},
   "outputs": [],
   "source": [
    "for value in uniq_sir:\n",
    "    df[f'S/I/R_{value}'] = np.nan\n",
    "for value in uniq_sir:\n",
    "    df[f'MIC_SIGN_{value}'] = np.nan\n",
    "for value in uniq_sir:\n",
    "    df[f'MIC_NUMBER_{value}'] = np.nan"
   ]
  },
  {
   "cell_type": "code",
   "execution_count": null,
   "metadata": {},
   "outputs": [],
   "source": [
    "for index, value in df_sir['Antimicrobials'].items():\n",
    "    sir = df_sir.loc[index, 'S/I/R']\n",
    "    mic_sign = df_sir.loc[index, 'MIC_SIGN']\n",
    "    mic_number = df_sir.loc[index, 'MIC_NUMBER']\n",
    "    if value in uniq_sir:\n",
    "        df.loc[df[df['hash_id'] == df_sir.loc[index, 'hash_id']].index, f\"S/I/R_{value}\"] = sir\n",
    "        df.loc[df[df['hash_id'] == df_sir.loc[index, 'hash_id']].index, f\"MIC_SIGN_{value}\"] = mic_sign\n",
    "        df.loc[df[df['hash_id'] == df_sir.loc[index, 'hash_id']].index, f\"MIC_NUMBER_{value}\"] = mic_number\n",
    "    else:\n",
    "        print(index, value)"
   ]
  },
  {
   "cell_type": "markdown",
   "metadata": {},
   "source": [
    "Export CSV"
   ]
  },
  {
   "cell_type": "code",
   "execution_count": null,
   "metadata": {},
   "outputs": [],
   "source": [
    "df.to_csv('./Dataset2020-2021_complete_v2.csv', index=False)"
   ]
  }
 ],
 "metadata": {
  "kernelspec": {
   "display_name": "Python 3 (ipykernel)",
   "language": "python",
   "name": "python3"
  },
  "language_info": {
   "codemirror_mode": {
    "name": "ipython",
    "version": 3
   },
   "file_extension": ".py",
   "mimetype": "text/x-python",
   "name": "python",
   "nbconvert_exporter": "python",
   "pygments_lexer": "ipython3",
   "version": "3.8.16"
  },
  "vscode": {
   "interpreter": {
    "hash": "b1321131bdd09d82f0979630ddb6c89f1498eb72af8f767e2bb7552f05a3290c"
   }
  }
 },
 "nbformat": 4,
 "nbformat_minor": 2
}
